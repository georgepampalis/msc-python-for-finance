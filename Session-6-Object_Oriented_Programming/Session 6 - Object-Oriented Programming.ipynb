{
 "cells": [
  {
   "cell_type": "markdown",
   "metadata": {},
   "source": [
    "# What is Object Oriented Programming (OOP) ?\n",
    "\n",
    "### Is a computer programming model that organizes software design around data, or objects, rather than functions and logic. An object can be defined as a data field that has unique attributes and behavior.\n",
    "\n",
    "### So far we have used functions to achieve our programming target, however sometimes it is prefered to have a layer of abstraction which allows us to define custom made objects.\n",
    "\n",
    "### Let's start with a non-financial motivation. Imagine we are a team of video game developpers creating our custom game Wold of MSc math Finance (WoMmF for short) and our game is set in a map. Different characters are located within this map each of them with different attributes like speed, intelect, etc. Trying to describe this rich echosistem with just functions is not going to work, that's why we need OOP "
   ]
  },
  {
   "cell_type": "markdown",
   "metadata": {},
   "source": [
    "# Classes\n",
    "\n",
    "Classes allow us to create our custom object, in our case we are going to start by creating a ```WoMmF_character``` class, which will allow us to obtain the necessary level of abstraction."
   ]
  },
  {
   "cell_type": "code",
   "execution_count": 3,
   "metadata": {},
   "outputs": [],
   "source": [
    "class WoMmF_character():\n",
    "    pass"
   ]
  },
  {
   "cell_type": "code",
   "execution_count": 8,
   "metadata": {},
   "outputs": [
    {
     "data": {
      "text/plain": [
       "__main__.WoMmF_character"
      ]
     },
     "execution_count": 8,
     "metadata": {},
     "output_type": "execute_result"
    }
   ],
   "source": [
    "my_character=WoMmF_character() \n",
    "type(my_character)"
   ]
  },
  {
   "cell_type": "markdown",
   "metadata": {},
   "source": [
    "### Congratulations you have created your first custom made object!\n",
    "\n",
    "# Constructor\n",
    "### As you can see an empty class is not of much use, that's why we need to define a custom constructor to be able to define attributes of our ```WoMmF_character``` class.  The syntax to create a constructor is  ``` def __init__(self, args) :```. The keyword ```self```references to the object itself and allows us to create different attributes. See an example below:"
   ]
  },
  {
   "cell_type": "code",
   "execution_count": 18,
   "metadata": {},
   "outputs": [],
   "source": [
    "class WoMmF_character():\n",
    "    def __init__(self, name, profession,x_coordinate, y_coordinate, programming_skill, stochastic_analysis_skill ): # This is our custom made class constructor\n",
    "        self.name=name\n",
    "        self.profession=profession\n",
    "        self.x_coord=x_coordinate\n",
    "        self.y_coord=y_coordinate\n",
    "        self.prog=programming_skill\n",
    "        self.stoch=stochastic_analysis_skill\n",
    "        "
   ]
  },
  {
   "cell_type": "markdown",
   "metadata": {},
   "source": [
    "### Now we can create our character using our custom made constructor"
   ]
  },
  {
   "cell_type": "code",
   "execution_count": 20,
   "metadata": {},
   "outputs": [
    {
     "data": {
      "text/plain": [
       "__main__.WoMmF_character"
      ]
     },
     "execution_count": 20,
     "metadata": {},
     "output_type": "execute_result"
    }
   ],
   "source": [
    "Antoine=WoMmF_character(name='Antoine', profession='MSc director',x_coordinate=20, y_coordinate=30, programming_skill=100, stochastic_analysis_skill=100) \n",
    "type(my_character)"
   ]
  },
  {
   "cell_type": "markdown",
   "metadata": {},
   "source": [
    "### We can access member attributes using ```object.attribute```. An example is given below"
   ]
  },
  {
   "cell_type": "code",
   "execution_count": 31,
   "metadata": {},
   "outputs": [
    {
     "name": "stdout",
     "output_type": "stream",
     "text": [
      "Character name: Antoine\n",
      "Character profession: MSc director\n",
      "Character location: (20,30)\n",
      "Character programming skill: 100\n",
      "Character stochastic analysis skill: 100\n"
     ]
    }
   ],
   "source": [
    "print(\"Character name:\", Antoine.name)\n",
    "print(\"Character profession:\", Antoine.profession)\n",
    "print(\"Character location: (%d,%d)\"%(Antoine.x_coord,Antoine.y_coord))\n",
    "print(\"Character programming skill:\", Antoine.prog)\n",
    "print(\"Character stochastic analysis skill:\", Antoine.stoch)"
   ]
  },
  {
   "cell_type": "markdown",
   "metadata": {},
   "source": [
    "### As you can see this starts to be quite useful as we can define different characters with different attributes"
   ]
  },
  {
   "cell_type": "markdown",
   "metadata": {},
   "source": [
    "# Class methods:\n",
    "### Class methods are a set of functions that our class object can call. The syntax is the same as a regular function but needs to be defined within the class. In addition we must pass the ```self``` keyword to the function if we want the function to be able to access our class attributes. A simple example here would be a method that displays our character's attributes, which obviously needs access to those attributes. See an example below"
   ]
  },
  {
   "cell_type": "code",
   "execution_count": 42,
   "metadata": {},
   "outputs": [],
   "source": [
    "class WoMmF_character():\n",
    "    # This is our custom made class constructor\n",
    "    def __init__(self, name, profession,x_coordinate, y_coordinate, programming_skill, stochastic_analysis_skill ): \n",
    "        self.name=name\n",
    "        self.profession=profession\n",
    "        self.x_coord=x_coordinate\n",
    "        self.y_coord=y_coordinate\n",
    "        self.prog=programming_skill\n",
    "        self.stoch=stochastic_analysis_skill\n",
    "        \n",
    "    # Here comes our first class method\n",
    "    def display_attributes(self):\n",
    "        print(\"Character name:\", self.name)\n",
    "        print(\"Character profession:\", self.profession)\n",
    "        print(\"Character location: (%d,%d)\"%(self.x_coord,self.y_coord))\n",
    "        print(\"Character programming skill:\", self.prog)\n",
    "        print(\"Character stochastic analysis skill:\", self.stoch)\n",
    "        \n",
    "        "
   ]
  },
  {
   "cell_type": "code",
   "execution_count": 43,
   "metadata": {},
   "outputs": [],
   "source": [
    "Antoine=WoMmF_character(name='Antoine', profession='MSc director',x_coordinate=20, y_coordinate=30, programming_skill=100, stochastic_analysis_skill=100) \n",
    "Aitor=WoMmF_character(name='Aitor', profession='Visiting lecturer',x_coordinate=-10, y_coordinate=56, programming_skill=100, stochastic_analysis_skill=80) "
   ]
  },
  {
   "cell_type": "code",
   "execution_count": 44,
   "metadata": {},
   "outputs": [
    {
     "name": "stdout",
     "output_type": "stream",
     "text": [
      "Character name: Antoine\n",
      "Character profession: MSc director\n",
      "Character location: (20,30)\n",
      "Character programming skill: 100\n",
      "Character stochastic analysis skill: 100\n"
     ]
    }
   ],
   "source": [
    "Antoine.display_attributes()"
   ]
  },
  {
   "cell_type": "code",
   "execution_count": 45,
   "metadata": {},
   "outputs": [
    {
     "name": "stdout",
     "output_type": "stream",
     "text": [
      "Character name: Aitor\n",
      "Character profession: Visiting lecturer\n",
      "Character location: (-10,56)\n",
      "Character programming skill: 100\n",
      "Character stochastic analysis skill: 80\n"
     ]
    }
   ],
   "source": [
    "Aitor.display_attributes()"
   ]
  },
  {
   "cell_type": "markdown",
   "metadata": {},
   "source": [
    "### Remark: Classes are python objects so we can, for example, create a list of our custom made characters"
   ]
  },
  {
   "cell_type": "code",
   "execution_count": 50,
   "metadata": {},
   "outputs": [
    {
     "name": "stdout",
     "output_type": "stream",
     "text": [
      "[<__main__.WoMmF_character object at 0x7f22b054cbe0>, <__main__.WoMmF_character object at 0x7f22b054cba8>]\n"
     ]
    }
   ],
   "source": [
    "list_of_characters=[Antoine,Aitor]\n",
    "print(list_of_characters)"
   ]
  },
  {
   "cell_type": "markdown",
   "metadata": {},
   "source": [
    "# ```__call__``` method\n",
    "### Call is a special method that can be implement in the class and can be called using ```class_object(args)```"
   ]
  },
  {
   "cell_type": "code",
   "execution_count": 9,
   "metadata": {},
   "outputs": [],
   "source": [
    "class WoMmF_character():\n",
    "    # This is our custom made class constructor\n",
    "    def __init__(self, name, profession,x_coordinate, y_coordinate, programming_skill, stochastic_analysis_skill ): \n",
    "        self.name=name\n",
    "        self.profession=profession\n",
    "        self.x_coord=x_coordinate\n",
    "        self.y_coord=y_coordinate\n",
    "        self.prog=programming_skill\n",
    "        self.stoch=stochastic_analysis_skill\n",
    "        \n",
    "    # Here comes our first class method\n",
    "    def display_attributes(self):\n",
    "        print(\"Character name:\", self.name)\n",
    "        print(\"Character profession:\", self.profession)\n",
    "        print(\"Character location: (%d,%d)\"%(self.x_coord,self.y_coord))\n",
    "        print(\"Character programming skill:\", self.prog)\n",
    "        print(\"Character stochastic analysis skill:\", self.stoch)\n",
    "    def __call__(self,args=None):\n",
    "        print(\"calling __call__ method\",args)\n",
    "        return 0"
   ]
  },
  {
   "cell_type": "code",
   "execution_count": 10,
   "metadata": {},
   "outputs": [],
   "source": [
    "Aitor=WoMmF_character(name='Aitor', profession='Visiting lecturer',x_coordinate=-10, y_coordinate=56, programming_skill=100, stochastic_analysis_skill=80) "
   ]
  },
  {
   "cell_type": "code",
   "execution_count": 12,
   "metadata": {},
   "outputs": [
    {
     "name": "stdout",
     "output_type": "stream",
     "text": [
      "calling __call__ method None\n",
      "calling __call__ method 5\n"
     ]
    },
    {
     "data": {
      "text/plain": [
       "0"
      ]
     },
     "execution_count": 12,
     "metadata": {},
     "output_type": "execute_result"
    }
   ],
   "source": [
    "Aitor()\n",
    "Aitor(5)"
   ]
  },
  {
   "cell_type": "markdown",
   "metadata": {},
   "source": [
    "# Friend functions\n",
    "### Even though in Python there is no difference between friend function and a regular function, in other programming languages such as C++ there is a difference. A friend function is a function that takes class objects as arguments and is able to access their attributes"
   ]
  },
  {
   "cell_type": "code",
   "execution_count": 55,
   "metadata": {},
   "outputs": [],
   "source": [
    "def compare_stoch_skills(character_x,character_y):\n",
    "    return True if character_x.stoch>character_y.stoch else False"
   ]
  },
  {
   "cell_type": "code",
   "execution_count": 56,
   "metadata": {},
   "outputs": [
    {
     "data": {
      "text/plain": [
       "True"
      ]
     },
     "execution_count": 56,
     "metadata": {},
     "output_type": "execute_result"
    }
   ],
   "source": [
    "compare_stoch_skills(Antoine,Aitor)"
   ]
  },
  {
   "cell_type": "markdown",
   "metadata": {},
   "source": [
    "# Encapsulation\n",
    "### Encapsulaton is the ability to hide an attribute of a class from the \"ouside world\", meaning that this attribute remains not accesible. In python, encapsulated variables so not exist, but it is programming convention to use the underscore ```_```. See an example below"
   ]
  },
  {
   "cell_type": "code",
   "execution_count": 59,
   "metadata": {},
   "outputs": [],
   "source": [
    "class WoMmF_character():\n",
    "    # This is our custom made class constructor\n",
    "    def __init__(self, name, profession,x_coordinate, y_coordinate, programming_skill, stochastic_analysis_skill,secret_skill ): \n",
    "        self.name=name\n",
    "        self.profession=profession\n",
    "        self.x_coord=x_coordinate\n",
    "        self.y_coord=y_coordinate\n",
    "        self.prog=programming_skill\n",
    "        self.stoch=stochastic_analysis_skill\n",
    "        self._secret_skill=secret_skill\n",
    "        \n",
    "    # Here comes our first class method\n",
    "    def display_attributes(self):\n",
    "        print(\"Character name:\", self.name)\n",
    "        print(\"Character profession:\", self.profession)\n",
    "        print(\"Character location: (%d,%d)\"%(self.x_coord,self.y_coord))\n",
    "        print(\"Character programming skill:\", self.prog)\n",
    "        print(\"Character stochastic analysis skill:\", self.stoch)\n",
    "        # This is OK as we are calling within the class\n",
    "        print(\"Secret Skill is :\",self._secret_skill)\n",
    "        "
   ]
  },
  {
   "cell_type": "code",
   "execution_count": 60,
   "metadata": {},
   "outputs": [],
   "source": [
    "Antoine=WoMmF_character(name='Antoine', profession='MSc director',x_coordinate=20, y_coordinate=30, programming_skill=100, stochastic_analysis_skill=100,secret_skill='SSVI') \n",
    "Aitor=WoMmF_character(name='Aitor', profession='Visiting lecturer',x_coordinate=-10, y_coordinate=56, programming_skill=100, stochastic_analysis_skill=80,secret_skill='rough volatility') "
   ]
  },
  {
   "cell_type": "code",
   "execution_count": 75,
   "metadata": {},
   "outputs": [
    {
     "name": "stdout",
     "output_type": "stream",
     "text": [
      "Character name: Antoine\n",
      "Character profession: MSc director\n",
      "Character location: (20,30)\n",
      "Character programming skill: 100\n",
      "Character stochastic analysis skill: 100\n",
      "Secret Skill is : SSVI\n"
     ]
    }
   ],
   "source": [
    "Antoine.display_attributes()"
   ]
  },
  {
   "cell_type": "markdown",
   "metadata": {},
   "source": [
    "### The following is not good practice"
   ]
  },
  {
   "cell_type": "code",
   "execution_count": 76,
   "metadata": {},
   "outputs": [],
   "source": [
    "def unveil_secret(character):\n",
    "    return character._secret_skill"
   ]
  },
  {
   "cell_type": "code",
   "execution_count": 77,
   "metadata": {},
   "outputs": [
    {
     "data": {
      "text/plain": [
       "'SSVI'"
      ]
     },
     "execution_count": 77,
     "metadata": {},
     "output_type": "execute_result"
    }
   ],
   "source": [
    "unveil_secret(Antoine)"
   ]
  },
  {
   "cell_type": "markdown",
   "metadata": {},
   "source": [
    "### Remark: Encapsulation and Friend functions are much more complex than what we saw here. In the C++ module you will dig into the details. Keep in mind though that python does not allow us to protect member attributes, as we have seen above the ```_secret_skill``` is accesible from outside the class, which means that anyone can modify it's value. This is one of the reasons why python gets some criticism in the OOP side."
   ]
  },
  {
   "cell_type": "markdown",
   "metadata": {},
   "source": [
    "# Inheritance\n",
    "### Inheritance is the ability to create classes inside classes, which are usually called subclasses. An example following our ```WoMmF_character``` would be to create two subclasses ```lecturer``` and  ```student```. In this case some attributes would be shared as both ```lecturer``` and  ```student``` are part of ```WoMmF_character```, but each subclass can have their own attributes and/or methods. The syntax to define a subclass is ```class subclass(main_class):``` . We can also inherit class methods using ```super()``` Let's see an example"
   ]
  },
  {
   "cell_type": "code",
   "execution_count": 144,
   "metadata": {},
   "outputs": [],
   "source": [
    "class WoMmF_character():\n",
    "    # This is our custom made class constructor\n",
    "    def __init__(self, name,x_coordinate, y_coordinate, programming_skill, stochastic_analysis_skill ): \n",
    "        self.name=name\n",
    "        self.x_coord=x_coordinate\n",
    "        self.y_coord=y_coordinate\n",
    "        self.prog=programming_skill\n",
    "        self.stoch=stochastic_analysis_skill\n",
    "    def display_attributes(self):\n",
    "        print(\"Character name:\", self.name)\n",
    "        print(\"Character location: (%d,%d)\"%(self.x_coord,self.y_coord))\n",
    "        print(\"Character programming skill:\", self.prog)\n",
    "        print(\"Character stochastic analysis skill:\", self.stoch)\n",
    "        \n",
    "class student(WoMmF_character): # class student inherits from WoMmF_character\n",
    "    # Constructor inherits from base class\n",
    "    def __init__(self, name,x_coordinate, y_coordinate, programming_skill, stochastic_analysis_skill,grades):\n",
    "        super().__init__(name,x_coordinate, y_coordinate, programming_skill, stochastic_analysis_skill)\n",
    "        self.grades = grades\n",
    "    #method also inherits from base class\n",
    "\n",
    "class lecturer(WoMmF_character): # class lecturer inherits from WoMmF_character\n",
    "    # Constructor inherits from base class\n",
    "    def __init__(self, name,x_coordinate, y_coordinate, programming_skill, stochastic_analysis_skill,course_taught):\n",
    "        super().__init__(name,x_coordinate, y_coordinate, programming_skill, stochastic_analysis_skill)\n",
    "        self.course_taught = course_taught\n",
    "  \n",
    "        "
   ]
  },
  {
   "cell_type": "code",
   "execution_count": 145,
   "metadata": {},
   "outputs": [
    {
     "name": "stdout",
     "output_type": "stream",
     "text": [
      "<class '__main__.student'>\n",
      "<class '__main__.lecturer'>\n"
     ]
    }
   ],
   "source": [
    "John=student(name='John',x_coordinate=30, y_coordinate=40, programming_skill=50, stochastic_analysis_skill=50,grades=70) \n",
    "print(type(John))\n",
    "Aitor=lecturer(name='Aitor',x_coordinate=-10, y_coordinate=56, programming_skill=100, stochastic_analysis_skill=80,course_taught='Python for finance') \n",
    "print(type(Aitor))"
   ]
  },
  {
   "cell_type": "code",
   "execution_count": 146,
   "metadata": {},
   "outputs": [
    {
     "name": "stdout",
     "output_type": "stream",
     "text": [
      "Character name: Aitor\n",
      "Character location: (-10,56)\n",
      "Character programming skill: 100\n",
      "Character stochastic analysis skill: 80\n",
      "Character course taught: Python for finance\n"
     ]
    }
   ],
   "source": [
    "print(\"Character name:\", Aitor.name)\n",
    "print(\"Character location: (%d,%d)\"%(Aitor.x_coord,Aitor.y_coord))\n",
    "print(\"Character programming skill:\", Aitor.prog)\n",
    "print(\"Character stochastic analysis skill:\", Aitor.stoch)\n",
    "print(\"Character course taught:\",Aitor.course_taught)"
   ]
  },
  {
   "cell_type": "code",
   "execution_count": 147,
   "metadata": {},
   "outputs": [
    {
     "name": "stdout",
     "output_type": "stream",
     "text": [
      "Character name: Aitor\n",
      "Character location: (-10,56)\n",
      "Character programming skill: 100\n",
      "Character stochastic analysis skill: 80\n"
     ]
    }
   ],
   "source": [
    "Aitor.display_attributes()"
   ]
  },
  {
   "cell_type": "code",
   "execution_count": 148,
   "metadata": {},
   "outputs": [
    {
     "ename": "AttributeError",
     "evalue": "'lecturer' object has no attribute 'grades'",
     "output_type": "error",
     "traceback": [
      "\u001b[0;31m---------------------------------------------------------------------------\u001b[0m",
      "\u001b[0;31mAttributeError\u001b[0m                            Traceback (most recent call last)",
      "\u001b[0;32m<ipython-input-148-1143ca759ac5>\u001b[0m in \u001b[0;36m<module>\u001b[0;34m\u001b[0m\n\u001b[0;32m----> 1\u001b[0;31m \u001b[0mAitor\u001b[0m\u001b[0;34m.\u001b[0m\u001b[0mgrades\u001b[0m\u001b[0;34m\u001b[0m\u001b[0;34m\u001b[0m\u001b[0m\n\u001b[0m",
      "\u001b[0;31mAttributeError\u001b[0m: 'lecturer' object has no attribute 'grades'"
     ]
    }
   ],
   "source": [
    "Aitor.grades"
   ]
  },
  {
   "cell_type": "code",
   "execution_count": 149,
   "metadata": {},
   "outputs": [
    {
     "name": "stdout",
     "output_type": "stream",
     "text": [
      "Character name: John\n",
      "Character location: (30,40)\n",
      "Character programming skill: 50\n",
      "Character stochastic analysis skill: 50\n"
     ]
    }
   ],
   "source": [
    "John.display_attributes()"
   ]
  },
  {
   "cell_type": "markdown",
   "metadata": {},
   "source": [
    "# Polymorphism and method overriding\n",
    "### Polymorphism in python defines methods in the child class that have the same name as the methods in the parent class. In inheritance, the subclass inherits the methods from the base class. Also, it is possible to modify a method in a child class that it has inherited from the parent class.\n",
    "\n",
    "### This is mostly used in cases where the method inherited from the base class doesn’t fit the child class. This process of re-implementing a method in the child class is known as Method Overriding. Here is an example that shows polymorphism with inheritance:"
   ]
  },
  {
   "cell_type": "code",
   "execution_count": 156,
   "metadata": {},
   "outputs": [],
   "source": [
    "class WoMmF_character():\n",
    "    # This is our custom made class constructor\n",
    "    def __init__(self, name,x_coordinate, y_coordinate, programming_skill, stochastic_analysis_skill ): \n",
    "        self.name=name\n",
    "        self.x_coord=x_coordinate\n",
    "        self.y_coord=y_coordinate\n",
    "        self.prog=programming_skill\n",
    "        self.stoch=stochastic_analysis_skill\n",
    "    def display_attributes(self):\n",
    "        print(\"Character name:\", self.name)\n",
    "        print(\"Character location: (%d,%d)\"%(self.x_coord,self.y_coord))\n",
    "        print(\"Character programming skill:\", self.prog)\n",
    "        print(\"Character stochastic analysis skill:\", self.stoch)\n",
    "    def display(self):\n",
    "        print(\"hello\")\n",
    "        \n",
    "class student(WoMmF_character): # class student inherits from WoMmF_character\n",
    "    # Constructor inherits from base class\n",
    "    def __init__(self, name,x_coordinate, y_coordinate, programming_skill, stochastic_analysis_skill,grades):\n",
    "        super().__init__(name,x_coordinate, y_coordinate, programming_skill, stochastic_analysis_skill)\n",
    "        self.grades = grades\n",
    "    #method also inherits from base class\n",
    "    def display_attributes(self):\n",
    "        super().display_attributes()\n",
    "        print(\"Character grade:\",self.grades)\n",
    "class lecturer(WoMmF_character): # class lecturer inherits from WoMmF_character\n",
    "    # Constructor inherits from base class\n",
    "    def __init__(self, name,x_coordinate, y_coordinate, programming_skill, stochastic_analysis_skill,course_taught):\n",
    "        super().__init__(name,x_coordinate, y_coordinate, programming_skill, stochastic_analysis_skill)\n",
    "        self.course_taught = course_taught\n",
    "    #method also inherits from base class\n",
    "    def display_attributes(self):\n",
    "        super().display_attributes()\n",
    "        print(\"Character course taught:\",self.course_taught)\n",
    "        "
   ]
  },
  {
   "cell_type": "code",
   "execution_count": 163,
   "metadata": {},
   "outputs": [
    {
     "name": "stdout",
     "output_type": "stream",
     "text": [
      "<class '__main__.student'>\n",
      "<class '__main__.lecturer'>\n"
     ]
    }
   ],
   "source": [
    "John=student(name='John',x_coordinate=30, y_coordinate=40, programming_skill=50, stochastic_analysis_skill=50,grades=70) \n",
    "print(type(John))\n",
    "Aitor=lecturer(name='Aitor',x_coordinate=-10, y_coordinate=56, programming_skill=100, stochastic_analysis_skill=80,course_taught='Python for finance') \n",
    "print(type(Aitor))"
   ]
  },
  {
   "cell_type": "code",
   "execution_count": 164,
   "metadata": {},
   "outputs": [
    {
     "name": "stdout",
     "output_type": "stream",
     "text": [
      "Character name: Aitor\n",
      "Character location: (-10,56)\n",
      "Character programming skill: 100\n",
      "Character stochastic analysis skill: 80\n",
      "Character course taught: Python for finance\n"
     ]
    }
   ],
   "source": [
    "Aitor.display_attributes()"
   ]
  },
  {
   "cell_type": "code",
   "execution_count": 165,
   "metadata": {},
   "outputs": [
    {
     "name": "stdout",
     "output_type": "stream",
     "text": [
      "Character name: John\n",
      "Character location: (30,40)\n",
      "Character programming skill: 50\n",
      "Character stochastic analysis skill: 50\n",
      "Character grade: 70\n"
     ]
    }
   ],
   "source": [
    "John.display_attributes()"
   ]
  },
  {
   "cell_type": "markdown",
   "metadata": {},
   "source": [
    "### Remark: Inheritance and polymorphism can make huge savings in your code length, when many of the base methods can be applied to sub classes"
   ]
  },
  {
   "cell_type": "markdown",
   "metadata": {},
   "source": [
    "# Abstraction\n",
    "### Abstraction is the last property of OOP that we will cover today\n",
    "\n",
    "## Abstract Classes In Python\n",
    "\n",
    "\n",
    "### A class containing one or more abstract methods is called an abstract class. Abstract methods do not contain any implementation. Instead, all the implementations can be defined in the methods of sub-classes that inherit the abstract class. An abstract class is created by importing a class named 'ABC' (Abstract base class) from the 'abc' module and inheriting the 'ABC' class. Below is the syntax for creating the abstract class.\n",
    "\n",
    "### In other words, abstract base classes are empty bessels. However, they dictate which methods sub-classes should have.\n",
    "\n",
    "### Let's take the example below, where our base abstract class will be a geometric shape and our abstract method, a method to compute the area"
   ]
  },
  {
   "cell_type": "code",
   "execution_count": 187,
   "metadata": {},
   "outputs": [
    {
     "ename": "TypeError",
     "evalue": "Can't instantiate abstract class Rectangle with abstract methods calculate_area",
     "output_type": "error",
     "traceback": [
      "\u001b[0;31m---------------------------------------------------------------------------\u001b[0m",
      "\u001b[0;31mTypeError\u001b[0m                                 Traceback (most recent call last)",
      "\u001b[0;32m<ipython-input-187-01c9d58ed613>\u001b[0m in \u001b[0;36m<module>\u001b[0;34m\u001b[0m\n\u001b[1;32m      9\u001b[0m     \u001b[0mwidth\u001b[0m \u001b[0;34m=\u001b[0m \u001b[0;36m3\u001b[0m\u001b[0;34m\u001b[0m\u001b[0;34m\u001b[0m\u001b[0m\n\u001b[1;32m     10\u001b[0m \u001b[0;34m\u001b[0m\u001b[0m\n\u001b[0;32m---> 11\u001b[0;31m \u001b[0mrec\u001b[0m \u001b[0;34m=\u001b[0m \u001b[0mRectangle\u001b[0m\u001b[0;34m(\u001b[0m\u001b[0;34m)\u001b[0m\u001b[0;34m\u001b[0m\u001b[0;34m\u001b[0m\u001b[0m\n\u001b[0m\u001b[1;32m     12\u001b[0m \u001b[0mprint\u001b[0m\u001b[0;34m(\u001b[0m\u001b[0;34m\"Area of a rectangle:\"\u001b[0m\u001b[0;34m,\u001b[0m \u001b[0mrec\u001b[0m\u001b[0;34m.\u001b[0m\u001b[0mcalculate_area\u001b[0m\u001b[0;34m(\u001b[0m\u001b[0;34m)\u001b[0m\u001b[0;34m)\u001b[0m \u001b[0;31m#call to 'calculate_area' not defined in Rectangle class\u001b[0m\u001b[0;34m\u001b[0m\u001b[0;34m\u001b[0m\u001b[0m\n",
      "\u001b[0;31mTypeError\u001b[0m: Can't instantiate abstract class Rectangle with abstract methods calculate_area"
     ]
    }
   ],
   "source": [
    "from abc import ABC,abstractmethod\n",
    "class Shape(ABC):\n",
    "    @abstractmethod\n",
    "    def calculate_area(self):\n",
    "        pass\n",
    "\n",
    "class Rectangle(Shape):\n",
    "    length = 5\n",
    "    width = 3\n",
    "\n",
    "rec = Rectangle()\n",
    "print(\"Area of a rectangle:\", rec.calculate_area()) #call to 'calculate_area' not defined in Rectangle class"
   ]
  },
  {
   "cell_type": "markdown",
   "metadata": {},
   "source": [
    "### Throws an error as we haven't implemented a method to compute the area"
   ]
  },
  {
   "cell_type": "code",
   "execution_count": 188,
   "metadata": {},
   "outputs": [
    {
     "name": "stdout",
     "output_type": "stream",
     "text": [
      "Area of a rectangle: 15\n"
     ]
    }
   ],
   "source": [
    "from abc import ABC,abstractmethod\n",
    "class Shape(ABC):\n",
    "    @abstractmethod\n",
    "    def calculate_area(self):\n",
    "        pass\n",
    "\n",
    "class Rectangle(Shape):\n",
    "    length = 5\n",
    "    breadth = 3\n",
    "    def calculate_area(self):\n",
    "        return self.length * self.breadth\n",
    "\n",
    "rec = Rectangle() #object created for the class 'Rectangle'\n",
    "print(\"Area of a rectangle:\", rec.calculate_area()) #call to 'calculate_area' method defined inside the class 'Rectangle'\n"
   ]
  },
  {
   "cell_type": "markdown",
   "metadata": {},
   "source": [
    "### This is very useful as it forces the coder to define certain methods in order to add a new shape to the abstract class Shape"
   ]
  },
  {
   "cell_type": "markdown",
   "metadata": {},
   "source": [
    "# A financial example and model abstract class\n",
    "\n",
    "### Let's focus on a financial specific example. We are going to create an abstract class named model, which will inherit a subclass names Black_Scholes"
   ]
  },
  {
   "cell_type": "code",
   "execution_count": 209,
   "metadata": {},
   "outputs": [],
   "source": [
    "from abc import ABC,abstractmethod\n",
    "from scipy.stats import norm\n",
    "import numpy as np\n",
    "class Model(ABC):\n",
    "    @abstractmethod\n",
    "    def price_european_option(self,S0, K, sigma, T,CP,t=0):\n",
    "        '''\n",
    "        #Inputs:\n",
    "        S0: initial stock price\n",
    "        K: strike\n",
    "        T: time to maturity\n",
    "        CP: 1 for call, -1 for put\n",
    "        '''\n",
    "        pass\n",
    "\n",
    "class Black_Scholes(Model):\n",
    "    def __init__(self,sigma):\n",
    "        self.sigma=sigma\n",
    "    \n",
    "    def price_european_option(self,S0, K, CP, T,t=0):\n",
    "        tau = T - t\n",
    "        sigmtau = self.sigma*np.sqrt(tau)\n",
    "        k = np.log(K/S0)\n",
    "        dp = -k / sigmtau + 0.5*sigmtau\n",
    "        dm = dp - sigmtau\n",
    "        return S0*(CP*norm.cdf(CP*dp) - CP*np.exp(k)*norm.cdf(CP*dm))\n"
   ]
  },
  {
   "cell_type": "code",
   "execution_count": 211,
   "metadata": {},
   "outputs": [
    {
     "data": {
      "text/plain": [
       "0.7123808960736666"
      ]
     },
     "execution_count": 211,
     "metadata": {},
     "output_type": "execute_result"
    }
   ],
   "source": [
    "BS_model=Black_Scholes(sigma=0.2)\n",
    "BS_model.price_european_option(S0=100,K=90,CP=-1,T=0.25)"
   ]
  },
  {
   "cell_type": "markdown",
   "metadata": {},
   "source": [
    "# Decorators\n",
    "### You have already seen decorators in the Functional Programming session. Python comes with several built-in decorators. The big three are:\n",
    "\n",
    "1.```@classmethod``` : Can be called with with an instance of a class or directly by the class itself as its first argument. According to the Python documentation: It can be called either on the class (such as C.f()) or on an instance (such as C().f()). The instance is ignored except for its class. If a class method is called for a derived class, the derived class object is passed as the implied first argument. \n",
    "\n",
    "2.```@staticmethod``` : Is just a function inside of a class. You can call it both with and without instantiating the class. A typical use case is when you have a function where you believe it has a connection with a class. It’s a stylistic choice for the most part.\n",
    "\n",
    "3.```@property``` : One of the simplest ways to use a property is to use it as a decorator of a method. This allows you to turn a class method into a class attribute. \n"
   ]
  },
  {
   "cell_type": "code",
   "execution_count": 1,
   "metadata": {},
   "outputs": [
    {
     "name": "stdout",
     "output_type": "stream",
     "text": [
      "running doubler\n",
      "10\n",
      "running tripler: <class '__main__.DecoratorTest'>\n",
      "9\n",
      "running tripler: <class '__main__.DecoratorTest'>\n",
      "9\n",
      "running quad\n",
      "8\n",
      "running quad\n",
      "12\n",
      "<bound method DecoratorTest.doubler of <__main__.DecoratorTest object at 0x7fa6b0b9ecf8>>\n",
      "<bound method DecoratorTest.class_tripler of <class '__main__.DecoratorTest'>>\n",
      "<function DecoratorTest.static_quad at 0x7fa6b1402e18>\n"
     ]
    }
   ],
   "source": [
    "class DecoratorTest(object):\n",
    "    \"\"\"\n",
    "    Test regular method vs @classmethod vs @staticmethod\n",
    "    \"\"\"\n",
    "\n",
    "    def __init__(self):\n",
    "        \"\"\"Constructor\"\"\"\n",
    "        pass\n",
    "\n",
    "    def doubler(self, x):\n",
    "        \"\"\"\"\"\"\n",
    "        print(\"running doubler\")\n",
    "        return x*2\n",
    "\n",
    "    @classmethod\n",
    "    def class_tripler(klass, x):\n",
    "        \"\"\"\"\"\"\n",
    "        print(\"running tripler: %s\" % klass)\n",
    "        return x*3\n",
    "\n",
    "    @staticmethod\n",
    "    def static_quad(x):\n",
    "        \"\"\"\"\"\"\n",
    "        print(\"running quad\")\n",
    "        return x*4\n",
    "\n",
    "\n",
    "decor = DecoratorTest()\n",
    "print(decor.doubler(5))\n",
    "print(decor.class_tripler(3))\n",
    "print(DecoratorTest.class_tripler(3))\n",
    "print(DecoratorTest.static_quad(2))\n",
    "print(decor.static_quad(3))\n",
    "\n",
    "print(decor.doubler)\n",
    "print(decor.class_tripler)\n",
    "print(decor.static_quad)"
   ]
  },
  {
   "cell_type": "code",
   "execution_count": 15,
   "metadata": {},
   "outputs": [],
   "source": [
    "class Person(object):\n",
    "    \"\"\"\"\"\"\n",
    "\n",
    "    def __init__(self, first_name, last_name):\n",
    "        \"\"\"Constructor\"\"\"\n",
    "        self.first_name = first_name\n",
    "        self.last_name = last_name\n",
    "\n",
    "    \n",
    "    def full_name(self):\n",
    "        \"\"\"\n",
    "        Return the full name\n",
    "        \"\"\"\n",
    "        return \"%s %s\" % (self.first_name, self.last_name)\n"
   ]
  },
  {
   "cell_type": "code",
   "execution_count": 18,
   "metadata": {},
   "outputs": [
    {
     "name": "stdout",
     "output_type": "stream",
     "text": [
      "Mike Driscoll\n"
     ]
    }
   ],
   "source": [
    "person = Person(\"Mike\", \"Driscoll\")\n",
    "print(person.full_name()) # we need to call the method"
   ]
  },
  {
   "cell_type": "code",
   "execution_count": 19,
   "metadata": {},
   "outputs": [],
   "source": [
    "class Person(object):\n",
    "    \"\"\"\"\"\"\n",
    "\n",
    "    def __init__(self, first_name, last_name):\n",
    "        \"\"\"Constructor\"\"\"\n",
    "        self.first_name = first_name\n",
    "        self.last_name = last_name\n",
    "\n",
    "    @property\n",
    "    def full_name(self):\n",
    "        \"\"\"\n",
    "        Return the full name\n",
    "        \"\"\"\n",
    "        return \"%s %s\" % (self.first_name, self.last_name)\n"
   ]
  },
  {
   "cell_type": "code",
   "execution_count": 21,
   "metadata": {},
   "outputs": [
    {
     "name": "stdout",
     "output_type": "stream",
     "text": [
      "Mike Driscoll\n",
      "Mike\n",
      "Mike Driscoll\n"
     ]
    },
    {
     "ename": "TypeError",
     "evalue": "'str' object is not callable",
     "output_type": "error",
     "traceback": [
      "\u001b[0;31m---------------------------------------------------------------------------\u001b[0m",
      "\u001b[0;31mTypeError\u001b[0m                                 Traceback (most recent call last)",
      "\u001b[0;32m<ipython-input-21-c2ac970e9196>\u001b[0m in \u001b[0;36m<module>\u001b[0;34m\u001b[0m\n\u001b[1;32m      3\u001b[0m \u001b[0mprint\u001b[0m\u001b[0;34m(\u001b[0m\u001b[0mperson\u001b[0m\u001b[0;34m.\u001b[0m\u001b[0mfirst_name\u001b[0m\u001b[0;34m)\u001b[0m\u001b[0;34m\u001b[0m\u001b[0;34m\u001b[0m\u001b[0m\n\u001b[1;32m      4\u001b[0m \u001b[0mprint\u001b[0m\u001b[0;34m(\u001b[0m\u001b[0mperson\u001b[0m\u001b[0;34m.\u001b[0m\u001b[0mfull_name\u001b[0m\u001b[0;34m)\u001b[0m\u001b[0;34m\u001b[0m\u001b[0;34m\u001b[0m\u001b[0m\n\u001b[0;32m----> 5\u001b[0;31m \u001b[0mprint\u001b[0m\u001b[0;34m(\u001b[0m\u001b[0mperson\u001b[0m\u001b[0;34m.\u001b[0m\u001b[0mfull_name\u001b[0m\u001b[0;34m(\u001b[0m\u001b[0;34m)\u001b[0m\u001b[0;34m)\u001b[0m\u001b[0;34m\u001b[0m\u001b[0;34m\u001b[0m\u001b[0m\n\u001b[0m\u001b[1;32m      6\u001b[0m \u001b[0;31m#No Longer valis as method! As it has become an attribute\u001b[0m\u001b[0;34m\u001b[0m\u001b[0;34m\u001b[0m\u001b[0;34m\u001b[0m\u001b[0m\n",
      "\u001b[0;31mTypeError\u001b[0m: 'str' object is not callable"
     ]
    }
   ],
   "source": [
    "person = Person(\"Mike\", \"Driscoll\")\n",
    "print(person.full_name)\n",
    "print(person.first_name)\n",
    "print(person.full_name) \n",
    "print(person.full_name())\n",
    "#No Longer valis as method! As it has become an attribute"
   ]
  },
  {
   "cell_type": "markdown",
   "metadata": {},
   "source": [
    "## Back to some more relevant decorators\n",
    "### The timer decorator is probably one of the most useful ones to measure your method execution time, when testing different approaches"
   ]
  },
  {
   "cell_type": "code",
   "execution_count": 29,
   "metadata": {},
   "outputs": [],
   "source": [
    "import functools\n",
    "import time\n",
    "def timer(func):\n",
    "    \"\"\"Print the runtime of the decorated function\"\"\"\n",
    "    @functools.wraps(func)\n",
    "    def wrapper_timer(*args, **kwargs):\n",
    "        start_time = time.perf_counter()    # 1\n",
    "        value = func(*args, **kwargs)\n",
    "        end_time = time.perf_counter()      # 2\n",
    "        run_time = end_time - start_time    # 3\n",
    "        print(f\"Finished {func.__name__!r} in {run_time:.4f} secs\")\n",
    "        return value\n",
    "    return wrapper_timer"
   ]
  },
  {
   "cell_type": "code",
   "execution_count": 30,
   "metadata": {},
   "outputs": [],
   "source": [
    "from abc import ABC,abstractmethod\n",
    "from scipy.stats import norm\n",
    "import numpy as np\n",
    "class Model(ABC):\n",
    "    @abstractmethod\n",
    "    def price_european_option(self,S0, K, sigma, T,CP,t=0):\n",
    "        '''\n",
    "        #Inputs:\n",
    "        S0: initial stock price\n",
    "        K: strike\n",
    "        T: time to maturity\n",
    "        CP: 1 for call, -1 for put\n",
    "        '''\n",
    "        pass\n",
    "\n",
    "class Black_Scholes(Model):\n",
    "    def __init__(self,sigma):\n",
    "        self.sigma=sigma\n",
    "    @timer\n",
    "    def price_european_option(self,S0, K, CP, T,t=0):\n",
    "        tau = T - t\n",
    "        sigmtau = self.sigma*np.sqrt(tau)\n",
    "        k = np.log(K/S0)\n",
    "        dp = -k / sigmtau + 0.5*sigmtau\n",
    "        dm = dp - sigmtau\n",
    "        return S0*(CP*norm.cdf(CP*dp) - CP*np.exp(k)*norm.cdf(CP*dm))\n"
   ]
  },
  {
   "cell_type": "code",
   "execution_count": 31,
   "metadata": {},
   "outputs": [
    {
     "name": "stdout",
     "output_type": "stream",
     "text": [
      "Finished 'price_european_option' in 0.0041 secs\n"
     ]
    },
    {
     "data": {
      "text/plain": [
       "0.7123808960736666"
      ]
     },
     "execution_count": 31,
     "metadata": {},
     "output_type": "execute_result"
    }
   ],
   "source": [
    "BS_model=Black_Scholes(sigma=0.2)\n",
    "BS_model.price_european_option(S0=100,K=90,CP=-1,T=0.25)"
   ]
  },
  {
   "cell_type": "markdown",
   "metadata": {},
   "source": [
    "# Decorators as classes\n",
    "\n",
    "Decorators can also be classes! We need to define the ```__call__``` method, which is the one that will be called when defining it within a function. See an example below"
   ]
  },
  {
   "cell_type": "code",
   "execution_count": 50,
   "metadata": {},
   "outputs": [],
   "source": [
    "class ClassMethodDebug(object):\n",
    "    \"\"\"Debug a class method.\n",
    "\n",
    "    This decorator is used for debugging a class method,\n",
    "    with normal arguments, and self. When using this\n",
    "    decorator, the method will print out it's arguments\n",
    "    and the attributes of the class it's contained in.\n",
    "\n",
    "    Keyword arguments:\n",
    "    debug -- Whether or not you want to debug the method.\n",
    "    \"\"\"\n",
    "    def __init__(self, debug):\n",
    "        self.debug = debug\n",
    "\n",
    "    def __call__(self, function):\n",
    "        def wrapper(function_self, *args, **kwargs):\n",
    "            if self.debug:\n",
    "                print(function_self.__dict__)\n",
    "                if args:\n",
    "                    print (\"[args]\")\n",
    "                    print(args)\n",
    "\n",
    "                if kwargs:\n",
    "                    print (\"[kwargs]\")\n",
    "                    print(kwargs)\n",
    "            return function(function_self, *args, **kwargs)\n",
    "        return wrapper"
   ]
  },
  {
   "cell_type": "markdown",
   "metadata": {},
   "source": [
    "### In this case the decorator needs to be called with the constructor, which will set the debub variable to either ```True``` of ```False```. This is useful to switch on and off decorators"
   ]
  },
  {
   "cell_type": "code",
   "execution_count": 55,
   "metadata": {},
   "outputs": [],
   "source": [
    "from abc import ABC,abstractmethod\n",
    "from scipy.stats import norm\n",
    "import numpy as np\n",
    "class Model(ABC):\n",
    "    @abstractmethod\n",
    "    def price_european_option(self,S0, K, sigma, T,CP,t=0):\n",
    "        '''\n",
    "        #Inputs:\n",
    "        S0: initial stock price\n",
    "        K: strike\n",
    "        T: time to maturity\n",
    "        CP: 1 for call, -1 for put\n",
    "        '''\n",
    "        pass\n",
    "\n",
    "class Black_Scholes(Model):\n",
    "    def __init__(self,sigma):\n",
    "        self.sigma=sigma\n",
    "    @ClassMethodDebug(debug=True)\n",
    "    @timer\n",
    "    def price_european_option(self,S0, K, CP, T,t=0):\n",
    "        tau = T - t\n",
    "        sigmtau = self.sigma*np.sqrt(tau)\n",
    "        k = np.log(K/S0)\n",
    "        dp = -k / sigmtau + 0.5*sigmtau\n",
    "        dm = dp - sigmtau\n",
    "        return S0*(CP*norm.cdf(CP*dp) - CP*np.exp(k)*norm.cdf(CP*dm))\n"
   ]
  },
  {
   "cell_type": "code",
   "execution_count": 56,
   "metadata": {},
   "outputs": [
    {
     "name": "stdout",
     "output_type": "stream",
     "text": [
      "{'sigma': 0.2}\n",
      "[kwargs]\n",
      "{'S0': 100, 'K': 90, 'CP': -1, 'T': 0.25}\n",
      "Finished 'price_european_option' in 0.0008 secs\n"
     ]
    },
    {
     "data": {
      "text/plain": [
       "0.7123808960736666"
      ]
     },
     "execution_count": 56,
     "metadata": {},
     "output_type": "execute_result"
    }
   ],
   "source": [
    "BS_model=Black_Scholes(sigma=0.2)\n",
    "BS_model.price_european_option(S0=100,K=90,CP=-1,T=0.25)"
   ]
  },
  {
   "cell_type": "markdown",
   "metadata": {},
   "source": [
    "### As you can see above we can also combine decorators! This make time measuring and debugging much cleaner and less error prone"
   ]
  }
 ],
 "metadata": {
  "kernelspec": {
   "display_name": "Python 3",
   "language": "python",
   "name": "python3"
  },
  "language_info": {
   "codemirror_mode": {
    "name": "ipython",
    "version": 3
   },
   "file_extension": ".py",
   "mimetype": "text/x-python",
   "name": "python",
   "nbconvert_exporter": "python",
   "pygments_lexer": "ipython3",
   "version": "3.6.9"
  }
 },
 "nbformat": 4,
 "nbformat_minor": 4
}

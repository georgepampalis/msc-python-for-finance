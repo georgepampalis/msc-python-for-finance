{
 "cells": [
  {
   "cell_type": "markdown",
   "metadata": {
    "toc": true
   },
   "source": [
    "<h1>Table of Contents<span class=\"tocSkip\"></span></h1>\n",
    "<div class=\"toc\"><ul class=\"toc-item\"><li><span><a href=\"#Some-topical-data-problems.....\" data-toc-modified-id=\"Some-topical-data-problems.....-1\"><span class=\"toc-item-num\">1&nbsp;&nbsp;</span>Some topical data problems.....</a></span><ul class=\"toc-item\"><li><span><a href=\"#NHS-COVID-DATA-October-2020\" data-toc-modified-id=\"NHS-COVID-DATA-October-2020-1.1\"><span class=\"toc-item-num\">1.1&nbsp;&nbsp;</span>NHS COVID DATA October 2020</a></span></li><li><span><a href=\"#Misleading-Visualisation-(often-on-purpose)\" data-toc-modified-id=\"Misleading-Visualisation-(often-on-purpose)-1.2\"><span class=\"toc-item-num\">1.2&nbsp;&nbsp;</span>Misleading Visualisation (often on purpose)</a></span></li></ul></li><li><span><a href=\"#Where-to-find-data?\" data-toc-modified-id=\"Where-to-find-data?-2\"><span class=\"toc-item-num\">2&nbsp;&nbsp;</span>Where to find data?</a></span></li><li><span><a href=\"#yahoo_fin\" data-toc-modified-id=\"yahoo_fin-3\"><span class=\"toc-item-num\">3&nbsp;&nbsp;</span>yahoo_fin</a></span><ul class=\"toc-item\"><li><span><a href=\"#The-stock_info-package\" data-toc-modified-id=\"The-stock_info-package-3.1\"><span class=\"toc-item-num\">3.1&nbsp;&nbsp;</span>The <code>stock_info</code> package</a></span><ul class=\"toc-item\"><li><span><a href=\"#Scraping-financial-data\" data-toc-modified-id=\"Scraping-financial-data-3.1.1\"><span class=\"toc-item-num\">3.1.1&nbsp;&nbsp;</span>Scraping financial data</a></span></li><li><span><a href=\"#Getting-major-stock-holders\" data-toc-modified-id=\"Getting-major-stock-holders-3.1.2\"><span class=\"toc-item-num\">3.1.2&nbsp;&nbsp;</span>Getting major stock holders</a></span></li></ul></li><li><span><a href=\"#The-options-package\" data-toc-modified-id=\"The-options-package-3.2\"><span class=\"toc-item-num\">3.2&nbsp;&nbsp;</span>The <code>options</code> package</a></span></li></ul></li><li><span><a href=\"#Webscraping\" data-toc-modified-id=\"Webscraping-4\"><span class=\"toc-item-num\">4&nbsp;&nbsp;</span>Webscraping</a></span><ul class=\"toc-item\"><li><span><a href=\"#Read-data-from-webpage\" data-toc-modified-id=\"Read-data-from-webpage-4.1\"><span class=\"toc-item-num\">4.1&nbsp;&nbsp;</span>Read data from webpage</a></span></li></ul></li><li><span><a href=\"#Data-visualisation\" data-toc-modified-id=\"Data-visualisation-5\"><span class=\"toc-item-num\">5&nbsp;&nbsp;</span>Data visualisation</a></span><ul class=\"toc-item\"><li><span><a href=\"#Matplotlib\" data-toc-modified-id=\"Matplotlib-5.1\"><span class=\"toc-item-num\">5.1&nbsp;&nbsp;</span>Matplotlib</a></span><ul class=\"toc-item\"><li><span><a href=\"#Simple-plot\" data-toc-modified-id=\"Simple-plot-5.1.1\"><span class=\"toc-item-num\">5.1.1&nbsp;&nbsp;</span>Simple plot</a></span></li><li><span><a href=\"#Empirical-histogram\" data-toc-modified-id=\"Empirical-histogram-5.1.2\"><span class=\"toc-item-num\">5.1.2&nbsp;&nbsp;</span>Empirical histogram</a></span></li><li><span><a href=\"#Scatter-plot\" data-toc-modified-id=\"Scatter-plot-5.1.3\"><span class=\"toc-item-num\">5.1.3&nbsp;&nbsp;</span>Scatter plot</a></span></li><li><span><a href=\"#3D-Plot\" data-toc-modified-id=\"3D-Plot-5.1.4\"><span class=\"toc-item-num\">5.1.4&nbsp;&nbsp;</span>3D Plot</a></span></li></ul></li><li><span><a href=\"#Seaborn\" data-toc-modified-id=\"Seaborn-5.2\"><span class=\"toc-item-num\">5.2&nbsp;&nbsp;</span>Seaborn</a></span><ul class=\"toc-item\"><li><span><a href=\"#Seaborn-vs-matplotlib\" data-toc-modified-id=\"Seaborn-vs-matplotlib-5.2.1\"><span class=\"toc-item-num\">5.2.1&nbsp;&nbsp;</span>Seaborn vs matplotlib</a></span></li><li><span><a href=\"#Seaborn-tools\" data-toc-modified-id=\"Seaborn-tools-5.2.2\"><span class=\"toc-item-num\">5.2.2&nbsp;&nbsp;</span>Seaborn tools</a></span><ul class=\"toc-item\"><li><span><a href=\"#Histograms\" data-toc-modified-id=\"Histograms-5.2.2.1\"><span class=\"toc-item-num\">5.2.2.1&nbsp;&nbsp;</span>Histograms</a></span></li><li><span><a href=\"#Visualising-the-data-in-2D\" data-toc-modified-id=\"Visualising-the-data-in-2D-5.2.2.2\"><span class=\"toc-item-num\">5.2.2.2&nbsp;&nbsp;</span>Visualising the data in 2D</a></span></li></ul></li></ul></li><li><span><a href=\"#Plotly\" data-toc-modified-id=\"Plotly-5.3\"><span class=\"toc-item-num\">5.3&nbsp;&nbsp;</span>Plotly</a></span></li><li><span><a href=\"#Bokeh\" data-toc-modified-id=\"Bokeh-5.4\"><span class=\"toc-item-num\">5.4&nbsp;&nbsp;</span>Bokeh</a></span><ul class=\"toc-item\"><li><span><a href=\"#Slider's-example\" data-toc-modified-id=\"Slider's-example-5.4.1\"><span class=\"toc-item-num\">5.4.1&nbsp;&nbsp;</span>Slider's example</a></span></li></ul></li><li><span><a href=\"#Sweetviz\" data-toc-modified-id=\"Sweetviz-5.5\"><span class=\"toc-item-num\">5.5&nbsp;&nbsp;</span>Sweetviz</a></span></li><li><span><a href=\"#Visualising-time-series\" data-toc-modified-id=\"Visualising-time-series-5.6\"><span class=\"toc-item-num\">5.6&nbsp;&nbsp;</span>Visualising time series</a></span><ul class=\"toc-item\"><li><span><a href=\"#Visualising-correlations\" data-toc-modified-id=\"Visualising-correlations-5.6.1\"><span class=\"toc-item-num\">5.6.1&nbsp;&nbsp;</span>Visualising correlations</a></span></li></ul></li><li><span><a href=\"#Another-example\" data-toc-modified-id=\"Another-example-5.7\"><span class=\"toc-item-num\">5.7&nbsp;&nbsp;</span>Another example</a></span></li><li><span><a href=\"#Word-Visualisation-with-WordCloud\" data-toc-modified-id=\"Word-Visualisation-with-WordCloud-5.8\"><span class=\"toc-item-num\">5.8&nbsp;&nbsp;</span>Word Visualisation with WordCloud</a></span></li></ul></li><li><span><a href=\"#Further-Reading\" data-toc-modified-id=\"Further-Reading-6\"><span class=\"toc-item-num\">6&nbsp;&nbsp;</span>Further Reading</a></span></li></ul></div>"
   ]
  },
  {
   "cell_type": "markdown",
   "metadata": {},
   "source": [
    "## Some topical data problems....."
   ]
  },
  {
   "cell_type": "markdown",
   "metadata": {},
   "source": [
    "### NHS COVID DATA October 2020\n",
    "https://www.bbc.co.uk/news/uk-54422505"
   ]
  },
  {
   "cell_type": "markdown",
   "metadata": {},
   "source": [
    "Run the following cell, first with N = 100, then with N = 1,100,000, and open the two csv files in Excel. What happens?"
   ]
  },
  {
   "cell_type": "code",
   "execution_count": null,
   "metadata": {},
   "outputs": [],
   "source": [
    "import numpy as np\n",
    "import csv"
   ]
  },
  {
   "cell_type": "code",
   "execution_count": null,
   "metadata": {},
   "outputs": [],
   "source": [
    "N = 1100000\n",
    "xx = np.random.normal(0,1,N)\n",
    "fileName = \"DataFile\" + str(N) + \".csv\"\n",
    "\n",
    "with open(fileName, 'w', newline='') as file:\n",
    "    writer = csv.writer(file)\n",
    "    writer.writerow([\"Index\", \"X\"])\n",
    "    for (i,x) in enumerate(xx):\n",
    "        writer.writerow([i, x])"
   ]
  },
  {
   "cell_type": "markdown",
   "metadata": {},
   "source": [
    "Is N = 2 million a large number?"
   ]
  },
  {
   "cell_type": "markdown",
   "metadata": {},
   "source": [
    "Let's look at FX data between GBP and EUR: https://www.truefx.com/truefx-historical-downloads/#66-67-january-1580847539"
   ]
  },
  {
   "cell_type": "code",
   "execution_count": null,
   "metadata": {},
   "outputs": [],
   "source": [
    "import pandas as pd\n",
    "df = pd.read_csv(\"EURGBP-2020-01.csv\", header = None)\n",
    "df = df.drop([0], axis=1)\n",
    "df.columns = [\"Date\", \"Bid\", \"Ask\"]\n",
    "df[\"Date\"] = pd.to_datetime(df[\"Date\"])\n",
    "df = df.set_index(\"Date\")\n",
    "df[[\"Bid\", \"Ask\"]].plot()\n",
    "df.info()"
   ]
  },
  {
   "cell_type": "markdown",
   "metadata": {},
   "source": [
    "### Misleading Visualisation (often on purpose)\n",
    "\n",
    "https://venngage.com/blog/misleading-graphs/"
   ]
  },
  {
   "cell_type": "markdown",
   "metadata": {},
   "source": [
    "## Where to find data?"
   ]
  },
  {
   "cell_type": "markdown",
   "metadata": {},
   "source": [
    "Internet is a goldmine for data. Not all data are free, but a large amount, on every topic, is (subject to copyright). We indicate below a few such sources that might be of interest in the context of Economics / Finance, as well as a few others (to broaden your horizons beyond the lure of the financial industry):\n",
    "- <a href=\"https://docs.quandl.com/\"> Quandl</a>:  vast collection of economic, financial, and market data collected from a wide variety of sources.\n",
    "- <a href=\"https://trends.google.com/trends/?geo=UK\"> Google Trends</a>\n",
    "- <a href=\"https://ico.org.uk/for-organisations/guide-to-data-protection/guide-to-the-general-data-protection-regulation-gdpr/key-definitions/what-is-personal-data/\">Personal data</a> and <a href=\"http://www.oecd.org/sti/intellectual-property-statistics-and-analysis.htm\">Intellectual property</a>.... "
   ]
  },
  {
   "cell_type": "markdown",
   "metadata": {},
   "source": [
    "## yahoo_fin\n",
    "\n",
    "https://pypi.org/project/yahoo-fin/"
   ]
  },
  {
   "cell_type": "markdown",
   "metadata": {},
   "source": [
    "The functions in `yahoo_fin` are grouped into two modules:\n",
    "- `stock_info`\n",
    "- `options`"
   ]
  },
  {
   "cell_type": "markdown",
   "metadata": {},
   "source": [
    "### The `stock_info` package"
   ]
  },
  {
   "cell_type": "code",
   "execution_count": null,
   "metadata": {},
   "outputs": [],
   "source": [
    "import yahoo_fin.stock_info as si"
   ]
  },
  {
   "cell_type": "code",
   "execution_count": null,
   "metadata": {},
   "outputs": [],
   "source": [
    "aapl = si.get_data(\"aapl\") # gets Apple's data\n",
    "amzn = si.get_data(\"amzn\") # gets Amazon's data\n",
    "aapl.head()"
   ]
  },
  {
   "cell_type": "markdown",
   "metadata": {},
   "source": [
    "You can also pull data for a specific date range, as follows:"
   ]
  },
  {
   "cell_type": "code",
   "execution_count": null,
   "metadata": {},
   "outputs": [],
   "source": [
    "si.get_data(\"amzn\", start_date = \"01/01/2017\", end_date = \"01/31/2017\")"
   ]
  },
  {
   "cell_type": "markdown",
   "metadata": {},
   "source": [
    "**Question:** Why are 2020/01/01 and 2020/01/02 missing?"
   ]
  },
  {
   "cell_type": "markdown",
   "metadata": {},
   "source": [
    "You can also get the list of all the tickers in the S&P 500:"
   ]
  },
  {
   "cell_type": "code",
   "execution_count": null,
   "metadata": {},
   "outputs": [],
   "source": [
    "listTickers = si.tickers_sp500()"
   ]
  },
  {
   "cell_type": "code",
   "execution_count": null,
   "metadata": {},
   "outputs": [],
   "source": [
    "len(listTickers)"
   ]
  },
  {
   "cell_type": "markdown",
   "metadata": {},
   "source": [
    "You can get the live price"
   ]
  },
  {
   "cell_type": "code",
   "execution_count": null,
   "metadata": {},
   "outputs": [],
   "source": [
    "import numpy as np\n",
    "n = np.random.randint(0, len(listTickers))"
   ]
  },
  {
   "cell_type": "code",
   "execution_count": null,
   "metadata": {},
   "outputs": [],
   "source": [
    "ticker = listTickers[n]\n",
    "print(n, ticker)"
   ]
  },
  {
   "cell_type": "code",
   "execution_count": null,
   "metadata": {},
   "outputs": [],
   "source": [
    "si.get_live_price(ticker) "
   ]
  },
  {
   "cell_type": "markdown",
   "metadata": {},
   "source": [
    "You can also get a quote table"
   ]
  },
  {
   "cell_type": "code",
   "execution_count": null,
   "metadata": {},
   "outputs": [],
   "source": [
    "si.get_quote_table(ticker, dict_result = False)"
   ]
  },
  {
   "cell_type": "markdown",
   "metadata": {},
   "source": [
    "You can also look at Cryptocurrencies:"
   ]
  },
  {
   "cell_type": "code",
   "execution_count": null,
   "metadata": {},
   "outputs": [],
   "source": [
    "si.get_top_crypto()"
   ]
  },
  {
   "cell_type": "code",
   "execution_count": null,
   "metadata": {},
   "outputs": [],
   "source": [
    "# most active stocks on the day\n",
    "si.get_day_most_active()\n",
    " \n",
    "# best stocks\n",
    "#si.get_day_gainers()\n",
    " \n",
    "# worst stocks\n",
    "#si.get_day_losers()"
   ]
  },
  {
   "cell_type": "markdown",
   "metadata": {},
   "source": [
    "#### Scraping financial data"
   ]
  },
  {
   "cell_type": "markdown",
   "metadata": {},
   "source": [
    "Financials, such as income statements, balance sheets, and cash flows can be scraped using `yahoo_fin`."
   ]
  },
  {
   "cell_type": "code",
   "execution_count": null,
   "metadata": {},
   "outputs": [],
   "source": [
    "income_statement = si.get_income_statement(ticker)\n",
    "balance_sheet = si.get_balance_sheet(ticker)\n",
    "cash_flow = si.get_cash_flow(ticker)\n",
    "\n",
    "print(income_statement)\n",
    "#print(balance_sheet)\n",
    "#print(cash_flow)"
   ]
  },
  {
   "cell_type": "markdown",
   "metadata": {},
   "source": [
    "#### Getting major stock holders"
   ]
  },
  {
   "cell_type": "markdown",
   "metadata": {},
   "source": [
    "Getting the major holders of a stock can be done with the get_holders function."
   ]
  },
  {
   "cell_type": "code",
   "execution_count": null,
   "metadata": {},
   "outputs": [],
   "source": [
    "holders = si.get_holders(ticker)"
   ]
  },
  {
   "cell_type": "markdown",
   "metadata": {},
   "source": [
    "This returns a dictionary. We can check the keys:"
   ]
  },
  {
   "cell_type": "code",
   "execution_count": null,
   "metadata": {},
   "outputs": [],
   "source": [
    "holders.keys()"
   ]
  },
  {
   "cell_type": "markdown",
   "metadata": {},
   "source": [
    "and the values are `pandas` dataframes (next week).\n",
    "We can return the top institutional holder:"
   ]
  },
  {
   "cell_type": "code",
   "execution_count": null,
   "metadata": {},
   "outputs": [],
   "source": [
    "info = holders[\"Top Institutional Holders\"]\n",
    "print(\"Top institutional holder: \", info.Holder[0])"
   ]
  },
  {
   "cell_type": "markdown",
   "metadata": {},
   "source": [
    "Examples on other indices:"
   ]
  },
  {
   "cell_type": "code",
   "execution_count": null,
   "metadata": {},
   "outputs": [],
   "source": [
    "# get list of Dow stocks\n",
    "dow_list = si.tickers_dow()\n",
    " \n",
    "# get list of NASDAQ stocks\n",
    "nasdaq_list = si.tickers_nasdaq()"
   ]
  },
  {
   "cell_type": "markdown",
   "metadata": {},
   "source": [
    "### The `options` package"
   ]
  },
  {
   "cell_type": "code",
   "execution_count": null,
   "metadata": {},
   "outputs": [],
   "source": [
    "from yahoo_fin import options"
   ]
  },
  {
   "cell_type": "code",
   "execution_count": null,
   "metadata": {},
   "outputs": [],
   "source": [
    "ticker = \"amzn\""
   ]
  },
  {
   "cell_type": "markdown",
   "metadata": {},
   "source": [
    "Get all the expirations date for the options on a given stock"
   ]
  },
  {
   "cell_type": "code",
   "execution_count": null,
   "metadata": {},
   "outputs": [],
   "source": [
    "maturities = options.get_expiration_dates(ticker)\n",
    "maturities"
   ]
  },
  {
   "cell_type": "markdown",
   "metadata": {},
   "source": [
    "Importing all the options on a given stock on a given maturity"
   ]
  },
  {
   "cell_type": "code",
   "execution_count": null,
   "metadata": {},
   "outputs": [],
   "source": [
    "chain = options.get_options_chain(ticker)\n",
    "calls = chain[\"calls\"]\n",
    "puts = chain[\"puts\"]\n",
    "calls.tail()"
   ]
  },
  {
   "cell_type": "markdown",
   "metadata": {},
   "source": [
    "To get the options for a specific maturity:"
   ]
  },
  {
   "cell_type": "code",
   "execution_count": null,
   "metadata": {},
   "outputs": [],
   "source": [
    "T = maturities[4]"
   ]
  },
  {
   "cell_type": "code",
   "execution_count": null,
   "metadata": {},
   "outputs": [],
   "source": [
    "allOptionsT = options.get_options_chain(ticker, T)\n",
    "allCallsT = options.get_calls(ticker, T)\n",
    "allPutsT = options.get_puts(ticker, T)"
   ]
  },
  {
   "cell_type": "markdown",
   "metadata": {},
   "source": [
    "Getting the options for each maturity (*takes some time*)"
   ]
  },
  {
   "cell_type": "code",
   "execution_count": null,
   "metadata": {},
   "outputs": [],
   "source": [
    "info = {}\n",
    "#for date in maturities:\n",
    "#    info[date] = options.get_options_chain(ticker, date)"
   ]
  },
  {
   "cell_type": "markdown",
   "metadata": {},
   "source": [
    "## Webscraping"
   ]
  },
  {
   "cell_type": "code",
   "execution_count": null,
   "metadata": {},
   "outputs": [],
   "source": [
    "from bs4 import BeautifulSoup\n",
    "import pandas as pd\n",
    "import requests"
   ]
  },
  {
   "cell_type": "markdown",
   "metadata": {},
   "source": [
    "### Read data from webpage"
   ]
  },
  {
   "cell_type": "code",
   "execution_count": null,
   "metadata": {},
   "outputs": [],
   "source": [
    "url = \"https://en.wikipedia.org/wiki/BNP_Paribas\"\n",
    "content = requests.get(url).content\n",
    "soup = BeautifulSoup(content,'html.parser')"
   ]
  },
  {
   "cell_type": "code",
   "execution_count": null,
   "metadata": {},
   "outputs": [],
   "source": [
    "atags = soup.find_all(\"a\") ## Viewing all data embedded in a tag"
   ]
  },
  {
   "cell_type": "code",
   "execution_count": null,
   "metadata": {},
   "outputs": [],
   "source": [
    "## Extracts only the relevant table\n",
    "table = soup.find_all(class_=\"wikitable\")[0]\n",
    "print(\"The html version of the table from the Wikipedia page reads: \")\n",
    "print(\"**********************\")\n",
    "print(table.prettify()) ##  The prettify command adds indentation\n",
    "print(\"**********************\")"
   ]
  },
  {
   "cell_type": "code",
   "execution_count": null,
   "metadata": {},
   "outputs": [],
   "source": [
    "index = [[th.text.strip() for th in tr.findChildren('th')] for tr in table.findChildren('tr')][0][1:]\n",
    "data = [[td.text.strip() for td in tr.findChildren('td')] for tr in table.findChildren('tr')][1:]"
   ]
  },
  {
   "cell_type": "code",
   "execution_count": null,
   "metadata": {},
   "outputs": [],
   "source": [
    "cols = [d[0] for d in data]\n",
    "values = np.transpose([d[1:] for d in data])\n",
    "df = pd.DataFrame (data = values, index = index, columns = cols)\n",
    "df.head()"
   ]
  },
  {
   "cell_type": "markdown",
   "metadata": {},
   "source": [
    "## Data visualisation"
   ]
  },
  {
   "cell_type": "markdown",
   "metadata": {
    "zanadu": {}
   },
   "source": [
    "### Matplotlib"
   ]
  },
  {
   "cell_type": "markdown",
   "metadata": {
    "zanadu": {}
   },
   "source": [
    "Historically, the package of choice to visualise data in Python was matplotlib, introduced in 2003, and based on a MATLAB-like interface, and originally conceived to visualise Electrocorticography data of epilepsy patients.\n",
    "\n",
    "https://matplotlib.org/"
   ]
  },
  {
   "cell_type": "code",
   "execution_count": null,
   "metadata": {
    "zanadu": {
     "code_type": "",
     "is_hidden": false
    }
   },
   "outputs": [],
   "source": [
    "import matplotlib.pyplot as plt\n",
    "import numpy as np"
   ]
  },
  {
   "cell_type": "markdown",
   "metadata": {
    "zanadu": {}
   },
   "source": [
    "#### Simple plot"
   ]
  },
  {
   "cell_type": "code",
   "execution_count": null,
   "metadata": {},
   "outputs": [],
   "source": [
    "aa = np.linspace(0, 10, 100)\n",
    "bb = np.exp(-aa)\n",
    "plt.plot(aa, bb)\n",
    "plt.show()"
   ]
  },
  {
   "cell_type": "markdown",
   "metadata": {
    "zanadu": {}
   },
   "source": [
    "**Question: what is wrong with the graph?**"
   ]
  },
  {
   "cell_type": "code",
   "execution_count": null,
   "metadata": {
    "zanadu": {
     "code_type": "",
     "is_hidden": true
    }
   },
   "outputs": [],
   "source": [
    "def f(x): \n",
    "    return np.exp(-x)\n",
    "aa = np.linspace(0, 10, 100)\n",
    "bb = f(aa)\n",
    "plt.plot(aa, bb, linewidth=3)\n",
    "plt.title('Function $x \\mapsto e^{-x}$')\n",
    "plt.xlabel(\"x values\")\n",
    "plt.show()"
   ]
  },
  {
   "cell_type": "markdown",
   "metadata": {
    "zanadu": {}
   },
   "source": [
    "#### Empirical histogram"
   ]
  },
  {
   "cell_type": "code",
   "execution_count": null,
   "metadata": {
    "zanadu": {
     "code_type": "",
     "is_hidden": false
    }
   },
   "outputs": [],
   "source": [
    "xx = np.random.normal(size=20000)\n",
    "\n",
    "plt.hist(xx, bins=50)\n",
    "plt.title('Empirical histogram of a Gaussian sample')\n",
    "plt.show()"
   ]
  },
  {
   "cell_type": "markdown",
   "metadata": {
    "zanadu": {}
   },
   "source": [
    "#### Scatter plot"
   ]
  },
  {
   "cell_type": "code",
   "execution_count": null,
   "metadata": {
    "zanadu": {
     "code_type": "",
     "is_hidden": false
    }
   },
   "outputs": [],
   "source": [
    "n = 1000\n",
    "fig, ax = plt.subplots(nrows=1, ncols=2, figsize=(10, 4))\n",
    "plt.subplot(1, 2, 1)\n",
    "aa = np.random.normal(0., 3., n)\n",
    "bb = np.random.normal(0., 1., n)\n",
    "plt.scatter(aa, bb, color='r')\n",
    "plt.title('Scatter plot of a Gaussian sample')\n",
    "\n",
    "plt.subplot(1, 2, 2)\n",
    "aa = np.random.rand(n)\n",
    "bb = np.random.rand(n)\n",
    "plt.scatter(aa, bb, color='b')\n",
    "plt.title('Scatter plot of a Uniform sample')\n",
    "plt.show()"
   ]
  },
  {
   "cell_type": "markdown",
   "metadata": {
    "zanadu": {}
   },
   "source": [
    "#### 3D Plot"
   ]
  },
  {
   "cell_type": "code",
   "execution_count": null,
   "metadata": {
    "zanadu": {
     "code_type": "",
     "is_hidden": false
    }
   },
   "outputs": [],
   "source": [
    "from mpl_toolkits.mplot3d import Axes3D\n",
    "fig = plt.figure()\n",
    "ax = fig.gca(projection='3d')\n",
    "XX = np.arange(-5, 5, 0.5)\n",
    "YY = np.arange(-5, 5, 0.5)\n",
    "XX, YY = np.meshgrid(XX, YY)\n",
    "ZZ = XX**2 - YY**2\n",
    "surf = ax.plot_surface(XX, YY, ZZ, rstride=1, cstride=1)\n",
    "plt.show()"
   ]
  },
  {
   "cell_type": "markdown",
   "metadata": {
    "zanadu": {}
   },
   "source": [
    "### Seaborn"
   ]
  },
  {
   "cell_type": "markdown",
   "metadata": {
    "zanadu": {}
   },
   "source": [
    "Seaborn, introduced in 2012, provides an application programming interface (API) on top of matplotlib, with similar tools, but that can be called directly from a pandas DataFrame.\n",
    "\n",
    "https://seaborn.pydata.org/"
   ]
  },
  {
   "cell_type": "markdown",
   "metadata": {
    "zanadu": {}
   },
   "source": [
    "#### Seaborn vs matplotlib"
   ]
  },
  {
   "cell_type": "code",
   "execution_count": null,
   "metadata": {
    "zanadu": {
     "code_type": ""
    }
   },
   "outputs": [],
   "source": [
    "import matplotlib.pyplot as plt\n",
    "plt.style.use('classic')\n",
    "%matplotlib inline"
   ]
  },
  {
   "cell_type": "code",
   "execution_count": null,
   "metadata": {
    "zanadu": {
     "code_type": ""
    }
   },
   "outputs": [],
   "source": [
    "n, p = 100, 5\n",
    "xx = np.linspace(0., 1., n)\n",
    "yy = np.cumsum(np.random.randn(n, p), axis=0)\n",
    "plt.plot(xx, yy)\n",
    "plt.legend('ABCDEF', ncol=2, loc='upper left')\n",
    "plt.title(\"matplotlib Plot\")\n",
    "plt.show()"
   ]
  },
  {
   "cell_type": "markdown",
   "metadata": {},
   "source": [
    "*Beware of legend location*"
   ]
  },
  {
   "cell_type": "code",
   "execution_count": null,
   "metadata": {
    "zanadu": {
     "code_type": ""
    }
   },
   "outputs": [],
   "source": [
    "import seaborn as sns\n",
    "sns.set()\n",
    "# same plotting code as above!\n",
    "plt.plot(xx, yy)\n",
    "plt.legend('ABCEF', ncol=2, loc='upper left')\n",
    "plt.title(\"seaborn Plot\")\n",
    "plt.show()"
   ]
  },
  {
   "cell_type": "markdown",
   "metadata": {
    "zanadu": {}
   },
   "source": [
    "#### Seaborn tools"
   ]
  },
  {
   "cell_type": "markdown",
   "metadata": {
    "zanadu": {}
   },
   "source": [
    "##### Histograms"
   ]
  },
  {
   "cell_type": "code",
   "execution_count": null,
   "metadata": {
    "zanadu": {
     "code_type": ""
    }
   },
   "outputs": [],
   "source": [
    "meanVector = [0., 0.]\n",
    "covMatrix = [[5., 2.], [2., 2.]]\n",
    "data = np.random.multivariate_normal(meanVector, covMatrix, size=10000)\n",
    "data = pd.DataFrame(data, columns=['x', 'y'])\n",
    "\n",
    "for col in 'xy':\n",
    "    plt.hist(data[col], density=True, alpha=0.7, label=col)\n",
    "plt.legend('loc=best')\n",
    "plt.title('Empirical marginal distributions')\n",
    "plt.show()"
   ]
  },
  {
   "cell_type": "code",
   "execution_count": null,
   "metadata": {
    "zanadu": {
     "code_type": ""
    }
   },
   "outputs": [],
   "source": [
    "for col in 'xy':\n",
    "    sns.kdeplot(data[col], shade=True).set_title(\"Empirical marginal distributions\")"
   ]
  },
  {
   "cell_type": "code",
   "execution_count": null,
   "metadata": {
    "zanadu": {
     "code_type": ""
    }
   },
   "outputs": [],
   "source": [
    "sns.distplot(data['x'], label='x')\n",
    "sns.distplot(data['y'], label='y')\n",
    "plt.legend(loc='best')\n",
    "plt.show()"
   ]
  },
  {
   "cell_type": "markdown",
   "metadata": {
    "zanadu": {}
   },
   "source": [
    "##### Visualising the data in 2D"
   ]
  },
  {
   "cell_type": "code",
   "execution_count": null,
   "metadata": {
    "zanadu": {
     "code_type": ""
    }
   },
   "outputs": [],
   "source": [
    "sns.kdeplot(data);"
   ]
  },
  {
   "cell_type": "code",
   "execution_count": null,
   "metadata": {
    "zanadu": {
     "code_type": ""
    }
   },
   "outputs": [],
   "source": [
    "with sns.axes_style('white'):\n",
    "    sns.jointplot(\"x\", \"y\", data, kind='kde');"
   ]
  },
  {
   "cell_type": "code",
   "execution_count": null,
   "metadata": {
    "zanadu": {
     "code_type": ""
    }
   },
   "outputs": [],
   "source": [
    "with sns.axes_style('white'):\n",
    "    sns.jointplot(\"x\", \"y\", data, kind='hex')"
   ]
  },
  {
   "cell_type": "code",
   "execution_count": null,
   "metadata": {
    "zanadu": {
     "code_type": ""
    }
   },
   "outputs": [],
   "source": [
    "### With a linear regression added\n",
    "with sns.axes_style('white'):\n",
    "    sns.jointplot(\"x\", \"y\", data, kind='reg')"
   ]
  },
  {
   "cell_type": "markdown",
   "metadata": {},
   "source": [
    "### Plotly\n",
    "\n",
    "https://plotly.com/"
   ]
  },
  {
   "cell_type": "code",
   "execution_count": null,
   "metadata": {},
   "outputs": [],
   "source": [
    "import yahoo_fin.stock_info as si\n",
    "aapl = si.get_data(\"aapl\")"
   ]
  },
  {
   "cell_type": "code",
   "execution_count": null,
   "metadata": {},
   "outputs": [],
   "source": [
    "ax = aapl['close'].plot(legend=False)"
   ]
  },
  {
   "cell_type": "code",
   "execution_count": null,
   "metadata": {},
   "outputs": [],
   "source": [
    "fig = ax.get_figure()\n",
    "import plotly.offline as py\n",
    "import plotly.graph_objs as go\n",
    "py.init_notebook_mode()\n",
    "py.iplot_mpl(fig, strip_style=True)"
   ]
  },
  {
   "cell_type": "markdown",
   "metadata": {},
   "source": [
    "Another type of plot in `plotly`:"
   ]
  },
  {
   "cell_type": "code",
   "execution_count": null,
   "metadata": {},
   "outputs": [],
   "source": [
    "df = pd.read_csv(\"Class20202021.csv\", sep='\\s+')\n",
    "df = df.set_index(\"ID\")\n",
    "df.head()"
   ]
  },
  {
   "cell_type": "code",
   "execution_count": null,
   "metadata": {},
   "outputs": [],
   "source": [
    "variable = \"BirthYear\"\n",
    "series = df.groupby(by=[variable]).count().mean(axis=1)\n",
    "print(series.index)\n",
    "print(series.values)"
   ]
  },
  {
   "cell_type": "code",
   "execution_count": null,
   "metadata": {},
   "outputs": [],
   "source": [
    "trace0 = go.Bar(\n",
    "        x=series.index,\n",
    "        y=series.values,\n",
    "        name='Last year')\n",
    "\n",
    "data = [trace0]\n",
    "\n",
    "layout = {\n",
    "        'title': 'MSc Math Finance 2020-2021',\n",
    "        'xaxis': {'title': variable},\n",
    "        'yaxis': {'title': 'Number'},\n",
    "        'barmode': 'stack'}\n",
    "\n",
    "py.iplot({'data': data, 'layout': layout})"
   ]
  },
  {
   "cell_type": "markdown",
   "metadata": {},
   "source": [
    "### Bokeh\n",
    "\n",
    "https://docs.bokeh.org/"
   ]
  },
  {
   "cell_type": "code",
   "execution_count": null,
   "metadata": {},
   "outputs": [],
   "source": [
    "import bokeh.plotting\n",
    "import bokeh.io\n",
    "import numpy as np"
   ]
  },
  {
   "cell_type": "code",
   "execution_count": null,
   "metadata": {},
   "outputs": [],
   "source": [
    "bokeh.io.output_notebook()"
   ]
  },
  {
   "cell_type": "code",
   "execution_count": null,
   "metadata": {},
   "outputs": [],
   "source": [
    "N = 4000\n",
    "x = np.random.random(size=N) * 100\n",
    "y = np.random.random(size=N) * 100\n",
    "radii = np.random.random(size=N) * 1.5\n",
    "colors = ['#%02x%02x%02x' % (int(r), int(g), 150) for r, g in zip(np.floor(50+2*x), np.floor(30+2*y))]\n",
    "p = bokeh.plotting.figure()\n",
    "p.circle(x, y, radius=radii, fill_color=colors, fill_alpha=.5, line_color=None)\n",
    "bokeh.plotting.show(p)"
   ]
  },
  {
   "cell_type": "markdown",
   "metadata": {},
   "source": [
    "#### Slider's example"
   ]
  },
  {
   "cell_type": "code",
   "execution_count": null,
   "metadata": {},
   "outputs": [],
   "source": [
    "import bokeh.plotting.figure as bk_figure\n",
    "from bokeh.io import curdoc, show\n",
    "from bokeh.layouts import row, widgetbox\n",
    "from bokeh.models import ColumnDataSource\n",
    "from bokeh.models.widgets import Slider, TextInput\n",
    "from bokeh.io import output_notebook # enables plot interface in J notebook\n",
    "\n",
    "from bokeh.application import Application\n",
    "from bokeh.application.handlers import FunctionHandler\n",
    "\n",
    "# Set up data\n",
    "n = 2000\n",
    "xx = np.linspace(-2.*np.pi, 2.*np.pi, n)\n",
    "yy = np.cos(x)\n",
    "source = ColumnDataSource(data=dict(x=xx, y=yy))\n",
    "\n",
    "# Set up plot\n",
    "plot = bk_figure(plot_height=400, plot_width=400, title=\"Jack's wave\",\n",
    "              tools=\"crosshair,pan,reset,save,wheel_zoom\",\n",
    "              x_range=[np.min(xx), np.max(xx)], y_range=[np.min(yy), np.max(yy)])\n",
    "\n",
    "plot.line('x', 'y', source=source, line_width=3, line_alpha=0.6)\n",
    "\n",
    "# Set up widgets\n",
    "text = TextInput(title=\"title\", value='Sin function')\n",
    "offset = Slider(title=\"offset\", value=0.0, start=-5.0, end=5.0, step=0.1)\n",
    "amplitude = Slider(title=\"amplitude\", value=1.0, start=-5.0, end=5.0, step=0.1)\n",
    "phase = Slider(title=\"phase\", value=0.0, start=0.0, end=2*np.pi)\n",
    "freq = Slider(title=\"frequency\", value=1.0, start=0.1, end=5.1, step=0.1)\n",
    "\n",
    "# Set up callbacks\n",
    "def update_title(attrname, old, new):\n",
    "    plot.title.text = text.value\n",
    "\n",
    "def update_data(attrname, old, new):\n",
    "    # Get the current slider values\n",
    "    a = amplitude.value\n",
    "    b = offset.value\n",
    "    w = phase.value\n",
    "    k = freq.value\n",
    "\n",
    "    # Generate the new curve\n",
    "    newyy = a*np.sin(k*xx + w) + b\n",
    "\n",
    "    source.data = dict(x=xx, y=newyy)\n",
    "\n",
    "for w in [offset, amplitude, phase, freq]:\n",
    "    w.on_change('value', update_data)\n",
    "\n",
    "# Set up layouts and add to document\n",
    "inputs = widgetbox(text, offset, amplitude, phase, freq)\n",
    "layout = row(plot, widgetbox(text, offset, amplitude, phase, freq))\n",
    "\n",
    "def modify_doc(doc):\n",
    "    doc.add_root(row(layout, width=800))\n",
    "    doc.title = \"Sliders\"\n",
    "    text.on_change('value', update_title)\n",
    "\n",
    "handler = FunctionHandler(modify_doc)\n",
    "show(Application(handler))"
   ]
  },
  {
   "cell_type": "markdown",
   "metadata": {},
   "source": [
    "### Sweetviz"
   ]
  },
  {
   "cell_type": "code",
   "execution_count": null,
   "metadata": {},
   "outputs": [],
   "source": [
    "import sweetviz as sv\n",
    "analy = sv.analyze(aapl)\n",
    "analy.show_html('analy.html')"
   ]
  },
  {
   "cell_type": "markdown",
   "metadata": {},
   "source": [
    "There exist many visualisation tools, and we will only discuss a few, the most popular:\n",
    "- `matplotlib` is a `Python` plotting library similar to MATLAB.\n",
    "- `pyplot` is a shell-like interface to `matplotlib`\n",
    "- `pylab` imports the `numpy` library, but is discouraged."
   ]
  },
  {
   "cell_type": "markdown",
   "metadata": {},
   "source": [
    "### Visualising time series"
   ]
  },
  {
   "cell_type": "code",
   "execution_count": null,
   "metadata": {},
   "outputs": [],
   "source": [
    "ticker = \"aapl\"\n",
    "df = si.get_data(ticker)#['open']\n",
    "df=df.dropna()\n",
    "df.head()"
   ]
  },
  {
   "cell_type": "code",
   "execution_count": null,
   "metadata": {},
   "outputs": [],
   "source": [
    "df[\"open\"].plot();"
   ]
  },
  {
   "cell_type": "markdown",
   "metadata": {},
   "source": [
    "**Question**: What is wrong with the graph above?"
   ]
  },
  {
   "cell_type": "code",
   "execution_count": null,
   "metadata": {},
   "outputs": [],
   "source": [
    "ticker = \"aapl\"\n",
    "df = si.get_data(ticker, start_date = \"01/01/2012\")\n",
    "df=df.dropna()"
   ]
  },
  {
   "cell_type": "code",
   "execution_count": null,
   "metadata": {},
   "outputs": [],
   "source": [
    "import matplotlib.pyplot as plt\n",
    "plt.style.use('seaborn-deep')\n",
    "ax = df[\"open\"].plot(figsize=(12, 5),fontsize=12,linewidth=3,linestyle='--')\n",
    "ax.set_xlabel('Date', fontsize=16)\n",
    "ax.set_ylabel('Value of Apple', fontsize=16)\n",
    "ax.set_title(\"Evolution of Apple\", fontsize=16)\n",
    "ax.axvspan('2018-09-01', '2018-11-01', color='red', alpha=0.3)\n",
    "ax.axvspan('2020-01-01', '2020-02-01', color='red', alpha=0.3)\n",
    "ax.axvspan('2020-08-15', '2020-09-15', color='red', alpha=0.3)\n",
    "plt.show()"
   ]
  },
  {
   "cell_type": "markdown",
   "metadata": {},
   "source": [
    "***Clarity is key!!!***"
   ]
  },
  {
   "cell_type": "markdown",
   "metadata": {},
   "source": [
    "#### Visualising correlations"
   ]
  },
  {
   "cell_type": "markdown",
   "metadata": {},
   "source": [
    "Let's import all the daily data from the S&P500"
   ]
  },
  {
   "cell_type": "code",
   "execution_count": null,
   "metadata": {},
   "outputs": [],
   "source": [
    "sp = si.tickers_sp500()\n",
    "tickers = [\"aapl\", \"amzn\", \"ba\", \"BRK.A\", \"bac\", \"V\", \"baba\", \"pypl\", \"xom\", \"hal\", \"slb\", \"csco\", \"intc\", \"orcl\", \"ko\", \"cl\", \"pg\", \"wmt\"]\n",
    "goodtickers = []\n",
    "df = pd.DataFrame()\n",
    "\n",
    "for t in tickers:\n",
    "    try:\n",
    "        dfTicker = si.get_data(t)\n",
    "        dfTicker = dfTicker['open']\n",
    "        df = pd.concat([df, dfTicker], axis=1)\n",
    "        goodtickers.append(t)\n",
    "    except:\n",
    "        print(\"Ticker \", t, \" not available\")\n",
    "\n",
    "df=df.dropna()\n",
    "df.columns = goodtickers\n",
    "df.head()"
   ]
  },
  {
   "cell_type": "code",
   "execution_count": null,
   "metadata": {},
   "outputs": [],
   "source": [
    "import seaborn as sns\n",
    "\n",
    "corrmat = df.corr(method='pearson')\n",
    "corrmat"
   ]
  },
  {
   "cell_type": "code",
   "execution_count": null,
   "metadata": {},
   "outputs": [],
   "source": [
    "plt.plot(corrmat, 'o');"
   ]
  },
  {
   "cell_type": "code",
   "execution_count": null,
   "metadata": {},
   "outputs": [],
   "source": [
    "sns.heatmap(corrmat);"
   ]
  },
  {
   "cell_type": "code",
   "execution_count": null,
   "metadata": {},
   "outputs": [],
   "source": [
    "sns.clustermap(corrmat, figsize=(8,8));"
   ]
  },
  {
   "cell_type": "markdown",
   "metadata": {},
   "source": [
    "### Another example"
   ]
  },
  {
   "cell_type": "markdown",
   "metadata": {},
   "source": [
    "Source: \"https://www.udacity.com/api/nodes/4576183932/supplemental_media/chopstick-effectivenesscsv/download\"\n",
    "\n",
    "Article:\n",
    "S.-H. Hsu, S.-P. Wu: \"An investigation for determining the optimum length of chopsticks\"\n",
    " (Applied Ergonomics, Volume 22, Issue 6, December 1991, Pages 395-400)\n"
   ]
  },
  {
   "cell_type": "code",
   "execution_count": null,
   "metadata": {},
   "outputs": [],
   "source": [
    "import pandas as pd\n",
    "import matplotlib.pylab as plt\n",
    "df = pd.read_csv(\"chopstick.csv\")\n",
    "df.head()"
   ]
  },
  {
   "cell_type": "code",
   "execution_count": null,
   "metadata": {},
   "outputs": [],
   "source": [
    "df.plot(x=df.columns[2], y=df.columns[0], style='o');"
   ]
  },
  {
   "cell_type": "markdown",
   "metadata": {},
   "source": [
    "**Question: How many chopsticks does China produce every year?**\n",
    "*Environmental impact...*"
   ]
  },
  {
   "cell_type": "markdown",
   "metadata": {},
   "source": [
    "### Word Visualisation with WordCloud"
   ]
  },
  {
   "cell_type": "code",
   "execution_count": null,
   "metadata": {},
   "outputs": [],
   "source": [
    "api = 'yourownapi'\n",
    "import requests\n",
    "import pprint\n",
    "url = 'https://newsapi.org/v2/everything?'\n",
    "parameters = {\n",
    "    'q': 'Biden', # query phrase\n",
    "    'pageSize': 80,  # maximum is 100\n",
    "    'apiKey': api, # your own API key\n",
    "    'from': \"2020-09-25\"\n",
    "}\n",
    "json = requests.get(url, params=parameters).json()\n",
    "pprint.pprint(json)\n",
    "\n",
    "for i in json['articles']:\n",
    "    print(i['title'])\n",
    "    \n",
    "from wordcloud import WordCloud\n",
    "import matplotlib.pyplot as plt\n",
    "\n",
    "allText = [str(i['title'] + ' ') for i in json['articles']][0]\n",
    "\n",
    "wordcloud = WordCloud(max_font_size=40).generate(allText)"
   ]
  },
  {
   "cell_type": "code",
   "execution_count": null,
   "metadata": {},
   "outputs": [],
   "source": [
    "plt.figure(figsize=(10, 8))\n",
    "plt.imshow(wordcloud, interpolation=\"bilinear\")\n",
    "plt.axis(\"off\")\n",
    "plt.show()"
   ]
  },
  {
   "cell_type": "markdown",
   "metadata": {},
   "source": [
    "## Further Reading"
   ]
  },
  {
   "cell_type": "markdown",
   "metadata": {},
   "source": [
    "- Hans Rosling: <a href=\"https://www.ted.com/talks/hans_rosling_the_best_stats_you_ve_ever_seen\">\"The best stats you've ever seen\"</a> (2006).\n",
    "- J. Matejka, G.  Fitzmaurice: <a href=\"https://damassets.autodesk.net/content/dam/autodesk/www/autodesk-reasearch/Publications/pdf/same-stats-different-graphs.pdf\">Same Stats, Different Graphs: Generating Datasets with Varied Appearance and Identical Statistics through Simulated Annealing</a> (2017).\n",
    "- C. Nussbaumer Knaflic. Storytelling with data: a data visualization guide for business professionals (2015).\n",
    "- E.R. Tufte. The Visual Display of Quantitative Information, second edition (2001).\n",
    "- E.R. Tufte. Visual Explanations: Images and Quantities, Evidence and Narrative (1997).\n",
    "    "
   ]
  }
 ],
 "metadata": {
  "kernelspec": {
   "display_name": "Python 3",
   "language": "python",
   "name": "python3"
  },
  "language_info": {
   "codemirror_mode": {
    "name": "ipython",
    "version": 3
   },
   "file_extension": ".py",
   "mimetype": "text/x-python",
   "name": "python",
   "nbconvert_exporter": "python",
   "pygments_lexer": "ipython3",
   "version": "3.7.6"
  },
  "latex_envs": {
   "LaTeX_envs_menu_present": true,
   "autoclose": false,
   "autocomplete": true,
   "bibliofile": "biblio.bib",
   "cite_by": "apalike",
   "current_citInitial": 1,
   "eqLabelWithNumbers": true,
   "eqNumInitial": 1,
   "hotkeys": {
    "equation": "Ctrl-E",
    "itemize": "Ctrl-I"
   },
   "labels_anchors": false,
   "latex_user_defs": false,
   "report_style_numbering": false,
   "user_envs_cfg": false
  },
  "toc": {
   "base_numbering": 1,
   "nav_menu": {},
   "number_sections": true,
   "sideBar": true,
   "skip_h1_title": true,
   "title_cell": "Table of Contents",
   "title_sidebar": "Contents",
   "toc_cell": true,
   "toc_position": {
    "height": "calc(100% - 180px)",
    "left": "10px",
    "top": "150px",
    "width": "341.153px"
   },
   "toc_section_display": true,
   "toc_window_display": true
  }
 },
 "nbformat": 4,
 "nbformat_minor": 4
}

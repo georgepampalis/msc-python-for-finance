{
 "cells": [
  {
   "cell_type": "markdown",
   "metadata": {},
   "source": [
    "# **Python for Finance -- Session 2 -- Assignment**\n",
    "---\n",
    "<img src=\"http://www.doc.ic.ac.uk/~afd/images/logo_imperial_college_london.png\" align = \"left\" width=200>\n",
    " <br><br><br><br>\n",
    " \n",
    "- Copyright (c) Antoine Jacquier, 2020. All rights reserved\n",
    "\n",
    "- Author: Antoine Jacquier <a.jacquier@imperial.ac.uk>\n",
    "\n",
    "- Platform: Tested on Windows 10 with Python 3.7"
   ]
  },
  {
   "cell_type": "code",
   "execution_count": 1,
   "metadata": {},
   "outputs": [],
   "source": [
    "import numpy as np\n",
    "import matplotlib.pyplot as plt"
   ]
  },
  {
   "cell_type": "markdown",
   "metadata": {},
   "source": [
    "## Discrete versus continuous compounding¶"
   ]
  },
  {
   "cell_type": "markdown",
   "metadata": {},
   "source": [
    "Suppose that you invest $\\Pi$ GBP today in a risk-free bank account.\n",
    "Considering compound interest rate yields the amount if one is earning  is\n",
    "\\begin{equation*}\n",
    "\\Pi\\left(1+\\frac{r}{n}\\right)^{nT}.\n",
    "\\end{equation*}\n",
    "over the period $[0,T]$, where $r$ is the annual nominal interest rate and $n$ the number of times the interest is compounded per year.\n",
    "For example, if $n=1$, this is a yearly rate, for $n=2$, this is a 6-month rate, and $n=252$ corresponds to a daily rate."
   ]
  },
  {
   "cell_type": "markdown",
   "metadata": {},
   "source": [
    "**Question:** \n",
    "- Write a program computing  how much money will be compounded as a function of $\\Pi, r, n, T$.\n",
    "- As $n$ becomes large, compute the limit of Equation (1), and illustrate it numerically.\n",
    "\n",
    "Available data:\n",
    "- Annual rates provided by the Bank of England are available here: https://www.bankofengland.co.uk/boeapps/database/Bank-Rate.asp\n",
    "\n",
    "- Annual rates by Bank of China can be found here: https://www.global-rates.com/en/interest-rates/central-banks/central-bank-china/pbc-interest-rate.aspx"
   ]
  },
  {
   "cell_type": "code",
   "execution_count": 19,
   "metadata": {},
   "outputs": [],
   "source": [
    "def discrete_returns (principal, rate, maturity, periods):\n",
    "    \n",
    "    return principal * (1. + rate/periods)**(periods*maturity)"
   ]
  },
  {
   "cell_type": "code",
   "execution_count": 20,
   "metadata": {},
   "outputs": [],
   "source": [
    "def continuous_returns (principal, rate, maturity):\n",
    "    \n",
    "    return principal * np.exp(rate * maturity)"
   ]
  },
  {
   "cell_type": "code",
   "execution_count": 62,
   "metadata": {},
   "outputs": [],
   "source": [
    "P0, r, T = 100, .03, 10.\n",
    "nn = [2**i for i in range(0, 3)]\n",
    "\n",
    "data = []"
   ]
  },
  {
   "cell_type": "code",
   "execution_count": 63,
   "metadata": {},
   "outputs": [],
   "source": [
    "n_max = max(nn)\n",
    "step = 1./n_max\n",
    "\n",
    "t_continuous = [t*step for t in range(0, int(T)*n_max + 1)]\n",
    "r_continuous = [continuous_returns(P0, r, t) for t in t_continuous]"
   ]
  },
  {
   "cell_type": "code",
   "execution_count": 64,
   "metadata": {},
   "outputs": [],
   "source": [
    "data.append(['continuous', t_continuous, r_continuous])"
   ]
  },
  {
   "cell_type": "code",
   "execution_count": 65,
   "metadata": {},
   "outputs": [],
   "source": [
    "for n in nn:\n",
    "    step = 1./n\n",
    "    i_prev = 0\n",
    "    t_prev = 0.\n",
    "    returns_prev = P0\n",
    "    t_discrete = []\n",
    "    r_discrete = []\n",
    "    \n",
    "    for i in range(1, int(T)*n + 1):\n",
    "        t = i * step\n",
    "        returns = discrete_returns(P0, r, t, n)\n",
    "        \n",
    "#         print('i = ', i)\n",
    "#         print('t_prev = ', t_prev)\n",
    "#         print('returns_prev = ', returns_prev)\n",
    "#         print('t = ', t)\n",
    "#         print('returns = ', returns)\n",
    "#         print()\n",
    "        \n",
    "        [t_discrete.extend([t_prev, t, t])]\n",
    "        [r_discrete.extend([returns_prev, returns_prev, returns])]\n",
    "        \n",
    "        t_prev = t\n",
    "        returns_prev = returns\n",
    "    \n",
    "    data.append(['n = %d' %n, t_discrete, r_discrete])"
   ]
  },
  {
   "cell_type": "code",
   "execution_count": 66,
   "metadata": {},
   "outputs": [
    {
     "data": {
      "image/png": "[encoded data removed]",
      "text/plain": [
       "<Figure size 432x288 with 1 Axes>"
      ]
     },
     "metadata": {
      "needs_background": "light"
     },
     "output_type": "display_data"
    }
   ],
   "source": [
    "for l in data:\n",
    "    plt.plot(l[1], l[2], label = l[0])\n",
    "plt.xlabel(\"time\")\n",
    "plt.legend(loc = \"best\")\n",
    "plt.show()"
   ]
  },
  {
   "cell_type": "markdown",
   "metadata": {},
   "source": [
    "## Pricing a Call option in Black-Scholes"
   ]
  },
  {
   "cell_type": "markdown",
   "metadata": {},
   "source": [
    "Write a Python function pricing a Call option in the Black-Scholes model by integration (see Section 5.4 in the notes). Check that, with $(S_0, K, \\sigma, t, T) = (100., 100., 0.2, 0., 1.)$,\n",
    "you obtain a Call option price equal to $7.965567455405798$."
   ]
  },
  {
   "cell_type": "code",
   "execution_count": 77,
   "metadata": {},
   "outputs": [],
   "source": [
    "from scipy.stats import norm\n",
    "from scipy.integrate import quad, simps\n",
    "\n",
    "import numpy as np"
   ]
  },
  {
   "cell_type": "code",
   "execution_count": 78,
   "metadata": {},
   "outputs": [],
   "source": [
    "S0, K, r, T, sigma = 100., 100., 0., 1., 0.2"
   ]
  },
  {
   "cell_type": "markdown",
   "metadata": {},
   "source": [
    "### Reference price (closed-form), see lectures"
   ]
  },
  {
   "cell_type": "code",
   "execution_count": 72,
   "metadata": {},
   "outputs": [],
   "source": [
    "def BSCall(spotPrice, strikePrice, riskFreeRate, timeToMaturity, volatility):\n",
    "    \n",
    "    sigmaT = volatility * np.sqrt(timeToMaturity)\n",
    "    lnSK = np.log( spotPrice / strikePrice )\n",
    "    d1 = (lnSK + (riskFreeRate + volatility**2/2.) * timeToMaturity) / sigmaT\n",
    "    d2 = d1 - sigmaT\n",
    "    \n",
    "    return norm.cdf(d1) * spotPrice - norm.cdf(d2) * strikePrice * np.exp(-riskFreeRate * timeToMaturity)"
   ]
  },
  {
   "cell_type": "code",
   "execution_count": 83,
   "metadata": {},
   "outputs": [
    {
     "name": "stdout",
     "output_type": "stream",
     "text": [
      "Reference Price:  7.965567455405804\n",
      "***************************\n"
     ]
    }
   ],
   "source": [
    "print(\"Reference Price: \", BSCall(S0, K, r, T, sigma))\n",
    "print(\"***************************\")"
   ]
  },
  {
   "cell_type": "markdown",
   "metadata": {},
   "source": [
    "### Pricing by integration"
   ]
  },
  {
   "cell_type": "code",
   "execution_count": 93,
   "metadata": {},
   "outputs": [],
   "source": [
    "def integrand(x, spotPrice, strikePrice, riskFreeRate, timeToMaturity, volatility):\n",
    "    gaussianDensity = np.exp( -0.5*x*x ) / np.sqrt( 2 * np.pi )\n",
    "    sigmaT = volatility * np.sqrt( timeToMaturity )\n",
    "    payoffFunction = np.maximum(0.,\n",
    "                                -strikePrice + spotPrice * np.exp(-0.5*sigmaT**2 + sigmaT*x)\n",
    "                               )\n",
    "    \n",
    "    return payoffFunction * gaussianDensity    "
   ]
  },
  {
   "cell_type": "code",
   "execution_count": 94,
   "metadata": {},
   "outputs": [],
   "source": [
    "xMin, xMax = -5., +5.\n",
    "qf = quad(integrand, xMin, xMax, args = (S0, K, r, T, sigma,) )\n",
    "\n",
    "xx = np.linspace(xMin, xMax, 1000)\n",
    "qs = simps([integrand(x, S0, K, r, T, sigma) for x in xx], xx)"
   ]
  },
  {
   "cell_type": "code",
   "execution_count": 95,
   "metadata": {},
   "outputs": [
    {
     "name": "stdout",
     "output_type": "stream",
     "text": [
      "Price by integration: \n",
      "Quadrature:  (7.9655167877012145, 7.187613669845568e-08)\n",
      "Simpson:  7.965549894118372\n",
      "***************************\n"
     ]
    }
   ],
   "source": [
    "print(\"Price by integration: \")\n",
    "print(\"Quadrature: \", qf)\n",
    "print(\"Simpson: \", qs)\n",
    "print(\"***************************\")"
   ]
  },
  {
   "cell_type": "markdown",
   "metadata": {},
   "source": [
    "### Pricing by simulation"
   ]
  },
  {
   "cell_type": "markdown",
   "metadata": {},
   "source": [
    "Using the representation\n",
    "\\begin{equation*}\n",
    "S_T\n",
    " = S_0\\exp\\left\\{-\\frac{\\sigma^2 T}{2} + \\sigma W_T\\right\\}\n",
    " = S_0\\exp\\left\\{-\\frac{\\sigma^2 T}{2} + \\sigma\\widetilde{n}\\sqrt{T}\\right\\} \\text{ (in distribution)},\n",
    "\\end{equation*}\n",
    "and the approximation\n",
    "$$\n",
    "\\mathbb{E}[f(S_T)] \\approx \\frac{1}{N}\\sum_{i=1}^{N}f\\left(S_T^{(i)}\\right),\n",
    "$$\n",
    "where $(S_T^{(i)})_{i=1,\\ldots,N}$ are independent random copies of $S_T$, write a Python function for a Call option price. With the same parameters as in 2.1, plot the convergence of the Call price as a function of $N$."
   ]
  },
  {
   "cell_type": "markdown",
   "metadata": {},
   "source": [
    "**Remark:** Note that here, you do not in fact need to simulate trajectories of the Brownian motion since the option is *European*, i.e. only depends on the value of the underlying stock price at maturity. For path-dependent options, however, simulations of the paths are required."
   ]
  },
  {
   "cell_type": "code",
   "execution_count": 106,
   "metadata": {},
   "outputs": [],
   "source": [
    "def BSCallSimulation(n, spotPrice, strikePrice, riskFreeRate, timeToMaturity, volatility):\n",
    "    nn = np.random.normal(0., 1., (n))\n",
    "    sigmaT = volatility * np.sqrt( timeToMaturity )\n",
    "    value = spotPrice * np.exp(-0.5*sigmaT**2 + sigmaT*nn)\n",
    "    payoff = np.maximum(0., value - strikePrice)\n",
    "    return np.mean(payoff)"
   ]
  },
  {
   "cell_type": "code",
   "execution_count": 112,
   "metadata": {},
   "outputs": [],
   "source": [
    "nn = np.arange(500, 100000, 1000)\n",
    "BSsim = [BSCallSimulation(n, S0, K, r, T, sigma) for n in nn]\n",
    "BStrue = [BSCall(S0, K, r, T, sigma)]*len(nn)"
   ]
  },
  {
   "cell_type": "code",
   "execution_count": 113,
   "metadata": {},
   "outputs": [
    {
     "data": {
      "image/png": "[encoded data removed]",
      "text/plain": [
       "<Figure size 432x288 with 1 Axes>"
      ]
     },
     "metadata": {
      "needs_background": "light"
     },
     "output_type": "display_data"
    }
   ],
   "source": [
    "plt.plot(nn, BSsim, 'b')\n",
    "plt.plot(nn, BStrue, 'k')\n",
    "plt.title(\"Convergence of the Black-Scholes Call price\")\n",
    "plt.xlabel(\"Number of paths\")\n",
    "plt.show()"
   ]
  },
  {
   "cell_type": "code",
   "execution_count": 114,
   "metadata": {},
   "outputs": [
    {
     "name": "stdout",
     "output_type": "stream",
     "text": [
      "Price by simulation: \n",
      "Mean value:  7.936626995158408\n",
      "Number of paths:  999500\n",
      "***************************\n"
     ]
    }
   ],
   "source": [
    "print(\"Price by simulation: \")\n",
    "print(\"Mean value: \", BSsim[-1])\n",
    "print(\"Number of paths: \", nn[-1])\n",
    "print(\"***************************\")"
   ]
  },
  {
   "cell_type": "markdown",
   "metadata": {},
   "source": [
    "## Implied volatility"
   ]
  },
  {
   "cell_type": "markdown",
   "metadata": {},
   "source": [
    "Recall that in the Black-Scholes model, the value of a European Call option on $(S_t)_{t\\geq 0}$ is given at inception by\n",
    "$$\n",
    "C^{\\mathrm{BS}}(S_0, K, T;\\sigma) = S_0\\left(\\mathcal{N}(d_{+}) - \\mathrm{e}^{k}\\mathcal{N}(d_{-})\\right),\n",
    "$$\n",
    "where\n",
    "$$\n",
    "d_{\\pm} = \\frac{-k}{\\sigma\\sqrt{T}} \\pm\\frac{\\sigma\\sqrt{T}}{2}\n",
    "\\quad \\text{ and } \\quad k := \\log\\left(\\frac{K}{S_0}\\right),\n",
    "$$\n",
    "and where $\\mathcal{N}$ denotes the Gaussian cumulative distribution function.\n"
   ]
  },
  {
   "cell_type": "markdown",
   "metadata": {},
   "source": [
    "- For any fixed $k, T, S_0>0$, show that the map $\\sigma\\mapsto C^{\\mathrm{BS}}(S_0, K, T;\\sigma)$ is bijective;\n",
    "- Compute \n",
    "\\begin{equation*}\n",
    "\\lim_{\\sigma\\downarrow 0}C^{\\mathrm{BS}}(S_0, K, T;\\sigma)\n",
    "\\text{  and  }\n",
    "\\lim_{\\sigma\\uparrow\\infty}C^{\\mathrm{BS}}(S_0, K, T;\\sigma).\n",
    "\\end{equation*}\n",
    "- Write a Python function with input $S_0, K, T, C$ that returns the implied volatility, solution to the equation $C^{\\mathrm{BS}}(S_0, K, T;\\sigma) = C$.\n",
    "*Hint: You can either use a root-finding method using the bijective property, or try to minimise the squared difference*.\n",
    "- Verify that the implied volatility corresponding to $(S_0, K, T, C) = (100., 100., 1., 7.9655674)$ is equal to $20\\%$."
   ]
  },
  {
   "cell_type": "code",
   "execution_count": 115,
   "metadata": {},
   "outputs": [],
   "source": [
    "from scipy.optimize import fsolve, root, minimize"
   ]
  },
  {
   "cell_type": "code",
   "execution_count": 137,
   "metadata": {},
   "outputs": [],
   "source": [
    "def objF(sigma, *args):\n",
    "    S0, K, r, T, optionPrice = args\n",
    "    return (BSCall(S0, K, r, T, sigma) - optionPrice)"
   ]
  },
  {
   "cell_type": "code",
   "execution_count": 130,
   "metadata": {},
   "outputs": [],
   "source": [
    "optionPrice = 7.9656"
   ]
  },
  {
   "cell_type": "code",
   "execution_count": 131,
   "metadata": {},
   "outputs": [],
   "source": [
    "impliedVol = fsolve(objF, x0 = 0.5, args = ((S0, K, r, T, optionPrice, )))[0]"
   ]
  },
  {
   "cell_type": "code",
   "execution_count": 150,
   "metadata": {},
   "outputs": [
    {
     "name": "stdout",
     "output_type": "stream",
     "text": [
      "Implied volatility:  0.2000008198610912\n",
      "Verification error:  5.329070518200751e-15\n"
     ]
    }
   ],
   "source": [
    "print(\"Implied volatility: \", impliedVol)\n",
    "print(\"Verification error: \", optionPrice - BSCall(S0, K, r, T, impliedVol))"
   ]
  },
  {
   "cell_type": "code",
   "execution_count": 163,
   "metadata": {
    "scrolled": true
   },
   "outputs": [
    {
     "name": "stdout",
     "output_type": "stream",
     "text": [
      "The solution converged.\n"
     ]
    }
   ],
   "source": [
    "solution_root = root(objF, x0 = 0.5, args = ((S0, K, r, T, optionPrice, )))\n",
    "impliedVol_root = solution_root.x[0]\n",
    "\n",
    "print(solution_root.message)"
   ]
  },
  {
   "cell_type": "code",
   "execution_count": 152,
   "metadata": {
    "collapsed": true
   },
   "outputs": [
    {
     "name": "stdout",
     "output_type": "stream",
     "text": [
      "Implied volatility (root):  0.2000008198610912\n",
      "Verification error (root):  5.329070518200751e-15\n"
     ]
    }
   ],
   "source": [
    "print(\"Implied volatility (root): \", impliedVol_root)\n",
    "print(\"Verification error (root): \", optionPrice - BSCall(S0, K, r, T, impliedVol_root))"
   ]
  },
  {
   "cell_type": "code",
   "execution_count": 199,
   "metadata": {},
   "outputs": [
    {
     "name": "stdout",
     "output_type": "stream",
     "text": [
      "b'ABNORMAL_TERMINATION_IN_LNSRCH'\n"
     ]
    },
    {
     "name": "stderr",
     "output_type": "stream",
     "text": [
      "/Users/gpsmacpro/anaconda3/lib/python3.6/site-packages/ipykernel_launcher.py:5: RuntimeWarning: invalid value encountered in true_divide\n",
      "  \"\"\"\n"
     ]
    }
   ],
   "source": [
    "bnds = ((0, 1), )\n",
    "solution_min = minimize(objF, x0 = 0.3,\n",
    "                        bounds = bnds,\n",
    "                        args = ((S0, K, r, T, optionPrice, )))\n",
    "impliedVol_min = solution_min.x[0]\n",
    "\n",
    "print(solution_min.message)"
   ]
  },
  {
   "cell_type": "code",
   "execution_count": 200,
   "metadata": {},
   "outputs": [
    {
     "name": "stdout",
     "output_type": "stream",
     "text": [
      "Implied volatility (min):  0.3\n",
      "Verification error (min):  -3.9579384740484986\n"
     ]
    }
   ],
   "source": [
    "## INCORRECT ##\n",
    "print(\"Implied volatility (min): \", impliedVol_min)\n",
    "print(\"Verification error (min): \", optionPrice - BSCall(S0, K, r, T, impliedVol_min))"
   ]
  },
  {
   "cell_type": "code",
   "execution_count": 136,
   "metadata": {},
   "outputs": [],
   "source": [
    "### ### ###\n",
    "### END ###\n",
    "### ### ###"
   ]
  }
 ],
 "metadata": {
  "kernelspec": {
   "display_name": "Python 3",
   "language": "python",
   "name": "python3"
  },
  "language_info": {
   "codemirror_mode": {
    "name": "ipython",
    "version": 3
   },
   "file_extension": ".py",
   "mimetype": "text/x-python",
   "name": "python",
   "nbconvert_exporter": "python",
   "pygments_lexer": "ipython3",
   "version": "3.6.12"
  },
  "latex_envs": {
   "LaTeX_envs_menu_present": true,
   "autoclose": false,
   "autocomplete": true,
   "bibliofile": "biblio.bib",
   "cite_by": "apalike",
   "current_citInitial": 1,
   "eqLabelWithNumbers": true,
   "eqNumInitial": 1,
   "hotkeys": {
    "equation": "Ctrl-E",
    "itemize": "Ctrl-I"
   },
   "labels_anchors": false,
   "latex_user_defs": false,
   "report_style_numbering": false,
   "user_envs_cfg": false
  },
  "toc": {
   "base_numbering": 1,
   "nav_menu": {},
   "number_sections": true,
   "sideBar": true,
   "skip_h1_title": true,
   "title_cell": "Table of Contents",
   "title_sidebar": "Contents",
   "toc_cell": false,
   "toc_position": {},
   "toc_section_display": true,
   "toc_window_display": true
  }
 },
 "nbformat": 4,
 "nbformat_minor": 4
}

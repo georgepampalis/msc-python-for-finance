{
 "cells": [
  {
   "cell_type": "markdown",
   "metadata": {},
   "source": [
    "# 1. Exercise:\n",
    "Let’s say I give you a list saved in a variable: a = [1, 4, 9, 16, 25, 36, 49, 64, 81, 100]. Write a Python function that takes this list a and makes a new list that has only the even elements of this list in it.\n",
    "\n"
   ]
  },
  {
   "cell_type": "code",
   "execution_count": null,
   "metadata": {},
   "outputs": [],
   "source": [
    "def even_only(input_list):\n",
    "    \"\"\"\n",
    "    input: list of integers\n",
    "    \n",
    "    \n",
    "    output: list of even ibntegers\n",
    "    \n",
    "    \"\"\"\n",
    "    \n",
    "    ### Your code goes here\n",
    "    return even_list"
   ]
  },
  {
   "cell_type": "markdown",
   "metadata": {},
   "source": [
    "# 2. Exercise\n",
    "\n",
    "Create a function that finds the inteegr divisors or an input integer. A list of all the divisors of that number is the expected output. (If you don’t know what a divisor is, it is a number that divides evenly into another number. For example, 13 is a divisor of 26 because 26 / 13 has no remainder.)\n",
    "\n"
   ]
  },
  {
   "cell_type": "code",
   "execution_count": null,
   "metadata": {},
   "outputs": [],
   "source": [
    "def find_divisors(input_integer):\n",
    "    \"\"\"\n",
    "    input: input integer\n",
    "    \n",
    "    \n",
    "    output: list of divisors\n",
    "    \n",
    "    \"\"\"\n",
    "    \n",
    "    ### Your code goes here\n",
    "    return even_list"
   ]
  },
  {
   "cell_type": "markdown",
   "metadata": {},
   "source": [
    "# 3. Exercise\n",
    "Create a function to determine whether a number is prime or not. (For those who have forgotten, a prime number is a number that has no divisors.). You can (and should!) use your answer to Exercise 2 to help you. \n",
    "\n"
   ]
  },
  {
   "cell_type": "code",
   "execution_count": null,
   "metadata": {},
   "outputs": [],
   "source": [
    "def check_prime(input_integer):\n",
    "    \"\"\"\n",
    "    input: input integer\n",
    "    \n",
    "    \n",
    "    output: boolean true or false\n",
    "    \n",
    "    \"\"\"\n",
    "    \n",
    "    ### Your code goes here\n",
    "    return is_prime"
   ]
  },
  {
   "cell_type": "markdown",
   "metadata": {},
   "source": [
    "# 4. Exercise \n",
    "\n",
    "Write a function that asks the user how many Fibonnaci numbers to generate and then generates them. Take this opportunity to think about how you can use functions. Make sure to ask the user to enter the number of numbers in the sequence to generate.(Hint: The Fibonnaci seqence is a sequence of numbers where the next number in the sequence is the sum of the previous two numbers in the sequence. The sequence looks like this: 1, 1, 2, 3, 5, 8, 13, …)\n",
    "\n"
   ]
  },
  {
   "cell_type": "code",
   "execution_count": null,
   "metadata": {},
   "outputs": [],
   "source": [
    "def fibonnaci_generator(input_integer):\n",
    "    \"\"\"\n",
    "    input: # of fibonacci numbers to generate \n",
    "    \n",
    "    \n",
    "    output: list of fibonacci numbers\n",
    "    \n",
    "    \"\"\"\n",
    "    \n",
    "    ### Your code goes here\n",
    "    return fibonnacci_list"
   ]
  },
  {
   "cell_type": "markdown",
   "metadata": {},
   "source": [
    "# 5. Exercise\n",
    "Take two lists, say for example these two:\n",
    "\n",
    "  a = [1, 1, 2, 3, 5, 8, 13, 21, 34, 55, 89]\n",
    "  \n",
    "  b = [1, 2, 3, 4, 5, 6, 7, 8, 9, 10, 11, 12, 13]\n",
    "  \n",
    "and write a program that returns a list that contains only the elements that are common between the lists (without duplicates). Make sure your program works on two lists of different sizes.\n",
    "\n"
   ]
  },
  {
   "cell_type": "code",
   "execution_count": null,
   "metadata": {},
   "outputs": [],
   "source": [
    "def intersection(list_a,list_b):\n",
    "    \"\"\"\n",
    "    input: two integer lists\n",
    "    \n",
    "    \n",
    "    output: intersection of lists\n",
    "    \n",
    "    \"\"\"\n",
    "    \n",
    "    ### Your code goes here\n",
    "    return intersec_list"
   ]
  }
 ],
 "metadata": {
  "kernelspec": {
   "display_name": "Python 3",
   "language": "python",
   "name": "python3"
  },
  "language_info": {
   "codemirror_mode": {
    "name": "ipython",
    "version": 3
   },
   "file_extension": ".py",
   "mimetype": "text/x-python",
   "name": "python",
   "nbconvert_exporter": "python",
   "pygments_lexer": "ipython3",
   "version": "3.6.9"
  }
 },
 "nbformat": 4,
 "nbformat_minor": 4
}

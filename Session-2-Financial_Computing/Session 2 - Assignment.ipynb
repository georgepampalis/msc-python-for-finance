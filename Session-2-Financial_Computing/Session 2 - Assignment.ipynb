{
 "cells": [
  {
   "cell_type": "markdown",
   "metadata": {},
   "source": [
    "# **Python for Finance -- Session 2 -- Assignment**\n",
    "---\n",
    "<img src=\"http://www.doc.ic.ac.uk/~afd/images/logo_imperial_college_london.png\" align = \"left\" width=200>\n",
    " <br><br><br><br>\n",
    " \n",
    "- Copyright (c) Antoine Jacquier, 2020. All rights reserved\n",
    "\n",
    "- Author: Antoine Jacquier <a.jacquier@imperial.ac.uk>\n",
    "\n",
    "- Platform: Tested on Windows 10 with Python 3.7"
   ]
  },
  {
   "cell_type": "code",
   "execution_count": 2,
   "metadata": {},
   "outputs": [],
   "source": [
    "import numpy as np\n",
    "import matplotlib.pyplot as plt"
   ]
  },
  {
   "cell_type": "markdown",
   "metadata": {},
   "source": [
    "## Discrete versus continuous compounding¶"
   ]
  },
  {
   "cell_type": "markdown",
   "metadata": {},
   "source": [
    "Suppose that you invest $\\Pi$ GBP today in a risk-free bank account.\n",
    "Considering compound interest rate yields the amount if one is earning  is\n",
    "\\begin{equation*}\n",
    "\\Pi\\left(1+\\frac{r}{n}\\right)^{nT}.\n",
    "\\end{equation*}\n",
    "over the period $[0,T]$, where $r$ is the annual nominal interest rate and $n$ the number of times the interest is compounded per year.\n",
    "For example, if $n=1$, this is a yearly rate, for $n=2$, this is a 6-month rate, and $n=252$ corresponds to a daily rate."
   ]
  },
  {
   "cell_type": "markdown",
   "metadata": {},
   "source": [
    "**Question:** \n",
    "- Write a program computing  how much money will be compounded as a function of $\\Pi, r, n, T$.\n",
    "- As $n$ becomes large, compute the limit of Equation (1), and illustrate it numerically.\n",
    "\n",
    "Available data:\n",
    "- Annual rates provided by the Bank of England are available here: https://www.bankofengland.co.uk/boeapps/database/Bank-Rate.asp\n",
    "\n",
    "- Annual rates by Bank of China can be found here: https://www.global-rates.com/en/interest-rates/central-banks/central-bank-china/pbc-interest-rate.aspx"
   ]
  },
  {
   "cell_type": "markdown",
   "metadata": {},
   "source": [
    "## Pricing a Call option in Black-Scholes"
   ]
  },
  {
   "cell_type": "markdown",
   "metadata": {},
   "source": [
    "### Pricing by integration"
   ]
  },
  {
   "cell_type": "markdown",
   "metadata": {},
   "source": [
    "Write a Python function pricing a Call option in the Black-Scholes model by integration (see Section 5.4 in the notes). Check that, with $(S_0, K, \\sigma, t, T) = (100., 100., 0.2, 0., 1.)$,\n",
    "you obtain a Call option price equal to $7.965567455405798$."
   ]
  },
  {
   "cell_type": "markdown",
   "metadata": {},
   "source": [
    "### Pricing by simulation"
   ]
  },
  {
   "cell_type": "markdown",
   "metadata": {},
   "source": [
    "Using the representation\n",
    "\\begin{equation*}\n",
    "S_T\n",
    " = S_0\\exp\\left\\{-\\frac{\\sigma^2 T}{2} + \\sigma W_T\\right\\}\n",
    " = S_0\\exp\\left\\{-\\frac{\\sigma^2 T}{2} + \\sigma\\widetilde{n}\\sqrt{T}\\right\\} \\text{ (in distribution)},\n",
    "\\end{equation*}\n",
    "and the approximation\n",
    "$$\n",
    "\\mathbb{E}[f(S_T)] \\approx \\frac{1}{N}\\sum_{i=1}^{N}f\\left(S_T^{(i)}\\right),\n",
    "$$\n",
    "where $(S_T^{(i)})_{i=1,\\ldots,N}$ are independent random copies of $S_T$, write a Python function for a Call option price. With the same parameters as in 2.1, plot the convergence of the Call price as a function of $N$."
   ]
  },
  {
   "cell_type": "markdown",
   "metadata": {},
   "source": [
    "**Remark:** Note that here, you do not in fact need to simulate trajectories of the Brownian motion since the option is *European*, i.e. only depends on the value of the underlying stock price at maturity. For path-dependent options, however, simulations of the paths are required."
   ]
  },
  {
   "cell_type": "markdown",
   "metadata": {},
   "source": [
    "## Implied volatility"
   ]
  },
  {
   "cell_type": "markdown",
   "metadata": {},
   "source": [
    "Recall that in the Black-Scholes model, the value of a European Call option on $(S_t)_{t\\geq 0}$ is given at inception by\n",
    "$$\n",
    "C^{\\mathrm{BS}}(S_0, K, T;\\sigma) = S_0\\left(\\mathcal{N}(d_{+}) - \\mathrm{e}^{k}\\mathcal{N}(d_{-})\\right),\n",
    "$$\n",
    "where\n",
    "$$\n",
    "d_{\\pm} = \\frac{-k}{\\sigma\\sqrt{T}} \\pm\\frac{\\sigma\\sqrt{T}}{2}\n",
    "\\quad \\text{ and } \\quad k := \\log\\left(\\frac{K}{S_0}\\right),\n",
    "$$\n",
    "and where $\\mathcal{N}$ denotes the Gaussian cumulative distribution function.\n"
   ]
  },
  {
   "cell_type": "markdown",
   "metadata": {},
   "source": [
    "- For any fixed $k, T, S_0>0$, show that the map $\\sigma\\mapsto C^{\\mathrm{BS}}(S_0, K, T;\\sigma)$ is bijective;\n",
    "- Compute \n",
    "\\begin{equation*}\n",
    "\\lim_{\\sigma\\downarrow 0}C^{\\mathrm{BS}}(S_0, K, T;\\sigma)\n",
    "\\text{  and  }\n",
    "\\lim_{\\sigma\\uparrow\\infty}C^{\\mathrm{BS}}(S_0, K, T;\\sigma).\n",
    "\\end{equation*}\n",
    "- Write a Python function with input $S_0, K, T, C$ that returns the implied volatility, solution to the equation $C^{\\mathrm{BS}}(S_0, K, T;\\sigma) = C$.\n",
    "*Hint: You can either use a root-finding method using the bijective property, or try to minimise the squared difference*.\n",
    "- Verify that the implied volatility corresponding to $(S_0, K, T, C) = (100., 100., 1., 7.9655674)$ is equal to $20\\%$."
   ]
  }
 ],
 "metadata": {
  "kernelspec": {
   "display_name": "Python 3",
   "language": "python",
   "name": "python3"
  },
  "language_info": {
   "codemirror_mode": {
    "name": "ipython",
    "version": 3
   },
   "file_extension": ".py",
   "mimetype": "text/x-python",
   "name": "python",
   "nbconvert_exporter": "python",
   "pygments_lexer": "ipython3",
   "version": "3.7.6"
  },
  "latex_envs": {
   "LaTeX_envs_menu_present": true,
   "autoclose": false,
   "autocomplete": true,
   "bibliofile": "biblio.bib",
   "cite_by": "apalike",
   "current_citInitial": 1,
   "eqLabelWithNumbers": true,
   "eqNumInitial": 1,
   "hotkeys": {
    "equation": "Ctrl-E",
    "itemize": "Ctrl-I"
   },
   "labels_anchors": false,
   "latex_user_defs": false,
   "report_style_numbering": false,
   "user_envs_cfg": false
  },
  "toc": {
   "base_numbering": 1,
   "nav_menu": {},
   "number_sections": true,
   "sideBar": true,
   "skip_h1_title": true,
   "title_cell": "Table of Contents",
   "title_sidebar": "Contents",
   "toc_cell": false,
   "toc_position": {},
   "toc_section_display": true,
   "toc_window_display": true
  }
 },
 "nbformat": 4,
 "nbformat_minor": 4
}
